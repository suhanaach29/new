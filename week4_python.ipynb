{
 "cells": [
  {
   "cell_type": "code",
   "execution_count": 1,
   "id": "87e5f89b-69f4-461c-8f4a-0d56bf2575a1",
   "metadata": {},
   "outputs": [],
   "source": [
    "import pymongo"
   ]
  },
  {
   "cell_type": "code",
   "execution_count": 2,
   "id": "5f0cb7bd-e189-4c97-81b1-19918b29b882",
   "metadata": {},
   "outputs": [],
   "source": [
    "#build connection\n",
    "connection = pymongo.MongoClient(\"localhost:27017\")"
   ]
  },
  {
   "cell_type": "code",
   "execution_count": 3,
   "id": "f26ce6f2-b65d-40f4-8585-5273dc26edfb",
   "metadata": {},
   "outputs": [
    {
     "data": {
      "text/plain": [
       "['Downloads', 'admin', 'config', 'local', 'week3']"
      ]
     },
     "execution_count": 3,
     "metadata": {},
     "output_type": "execute_result"
    }
   ],
   "source": [
    "connection.list_database_names()"
   ]
  },
  {
   "cell_type": "code",
   "execution_count": 5,
   "id": "a76a7f4e-c535-420e-9266-97d6963d72de",
   "metadata": {},
   "outputs": [],
   "source": [
    "db = connection['Downloads']"
   ]
  },
  {
   "cell_type": "code",
   "execution_count": 7,
   "id": "fcf73c5d-2577-426b-ad77-5fd71437277e",
   "metadata": {},
   "outputs": [
    {
     "data": {
      "text/plain": [
       "['Tweets']"
      ]
     },
     "execution_count": 7,
     "metadata": {},
     "output_type": "execute_result"
    }
   ],
   "source": [
    "db.list_collection_names()"
   ]
  },
  {
   "cell_type": "code",
   "execution_count": 8,
   "id": "fd4b3ff8-b9ab-497e-9073-94c9014b75c3",
   "metadata": {},
   "outputs": [],
   "source": [
    "tweets = db['Tweets']"
   ]
  },
  {
   "cell_type": "code",
   "execution_count": 9,
   "id": "3848fbad-c76e-43fb-ae32-36f78b26d05e",
   "metadata": {},
   "outputs": [],
   "source": [
    "#build connection\n",
    "connection = pymongo.MongoClient(\"localhost:27017\") ##connect address\n",
    "db = connection['Downloads']   ##connect to the database\n",
    "tweets = db['Tweets'] ##connect to collection"
   ]
  },
  {
   "cell_type": "code",
   "execution_count": 36,
   "id": "0c93ee7e-86aa-473f-979b-ccfe70272c5f",
   "metadata": {},
   "outputs": [
    {
     "name": "stdout",
     "output_type": "stream",
     "text": [
      "{'_id': ObjectId('65deaa68cadd406b2c8e6f1b'), 'created_at': 'Thu Apr 06 15:24:26 +0000 2017', 'id_str': '8500062451211695744', 'text': '15-year olds Bailey Holt and Preston Cope, the two teens killed in the #KentuckySchoolShooting. It was the 11th school shooting of 2018. There are 7 days left in January.', 'user': {'id': 224499494512, 'name': 'user 12', 'screen_name': 'Twitter User', 'location': 'Internet', 'url': 'user URL', 'description': 'user description'}, 'place': {}, 'entities': {'hashtags': [], 'urls': [{'url': 'twt url sample', 'unwound': {'url': 'url sample', 'title': 'web page title'}}], 'user_mentions': []}}\n"
     ]
    }
   ],
   "source": [
    "#find\n",
    "for doc in tweets.find({\"user.name\":\"user 12\"}):\n",
    "    print(doc)"
   ]
  },
  {
   "cell_type": "code",
   "execution_count": 39,
   "id": "cb523293-0a1c-4201-ad15-42e07d92dcc3",
   "metadata": {},
   "outputs": [
    {
     "name": "stdout",
     "output_type": "stream",
     "text": [
      "{'id': 224499494513, 'name': 'user 13', 'screen_name': 'Twitter User', 'location': 'Internet', 'url': 'user URL', 'description': 'user description'}\n",
      "{'id': 224499494514, 'name': 'user 14', 'screen_name': 'Twitter User', 'location': 'Internet', 'url': 'user URL', 'description': 'user description'}\n",
      "{'id': 224499494515, 'name': 'user 15', 'screen_name': 'Twitter User', 'location': 'Internet', 'url': 'user URL', 'description': 'user description'}\n",
      "{'id': 224499494516, 'name': 'user 16', 'screen_name': 'Twitter User', 'location': 'Internet', 'url': 'user URL', 'description': 'user description'}\n",
      "{'id': 224499494517, 'name': 'user 17', 'screen_name': 'Twitter User', 'location': 'Internet', 'url': 'user URL', 'description': 'user description'}\n",
      "{'id': 224499494518, 'name': 'user 18', 'screen_name': 'Twitter User', 'location': 'Internet', 'url': 'user URL', 'description': 'user description'}\n",
      "{'id': 224499494519, 'name': 'user 19', 'screen_name': 'Twitter User', 'location': 'Internet', 'url': 'user URL', 'description': 'user description'}\n",
      "{'id': 224499494520, 'name': 'user 20', 'screen_name': 'Twitter User', 'location': 'Internet', 'url': 'user URL', 'description': 'user description'}\n",
      "{'id': 224499494521, 'name': 'user 21', 'screen_name': 'Twitter User', 'location': 'Internet', 'url': 'user URL', 'description': 'user description'}\n",
      "{'id': 224499494522, 'name': 'user 22', 'screen_name': 'Twitter User', 'location': 'Internet', 'url': 'user URL', 'description': 'user description'}\n",
      "{'id': 224499494523, 'name': 'user 23', 'screen_name': 'Twitter User', 'location': 'Internet', 'url': 'user URL', 'description': 'user description'}\n",
      "{'id': 224499494524, 'name': 'user 24', 'screen_name': 'Twitter User', 'location': 'Internet', 'url': 'user URL', 'description': 'user description'}\n",
      "{'id': 224499494525, 'name': 'user 25', 'screen_name': 'Twitter User', 'location': 'Internet', 'url': 'user URL', 'description': 'user description'}\n",
      "{'id': 224499494526, 'name': 'user 26', 'screen_name': 'Twitter User', 'location': 'Internet', 'url': 'user URL', 'description': 'user description'}\n",
      "{'id': 224499494527, 'name': 'user 27', 'screen_name': 'Twitter User', 'location': 'Internet', 'url': 'user URL', 'description': 'user description'}\n",
      "{'id': 224499494528, 'name': 'user 28', 'screen_name': 'Twitter User', 'location': 'Internet', 'url': 'user URL', 'description': 'user description'}\n",
      "{'id': 224499494529, 'name': 'user 29', 'screen_name': 'Twitter User', 'location': 'Internet', 'url': 'user URL', 'description': 'user description'}\n",
      "{'id': 224499494530, 'name': 'user 30', 'screen_name': 'Twitter User', 'location': 'Internet', 'url': 'user URL', 'description': 'user description'}\n",
      "{'id': 224499494531, 'name': 'user 31', 'screen_name': 'Twitter User', 'location': 'Internet', 'url': 'user URL', 'description': 'user description'}\n",
      "{'id': 224499494532, 'name': 'user 32', 'screen_name': 'Twitter User', 'location': 'Internet', 'url': 'user URL', 'description': 'user description'}\n",
      "{'id': 224499494533, 'name': 'user 33', 'screen_name': 'Twitter User', 'location': 'Internet', 'url': 'user URL', 'description': 'user description'}\n",
      "{'id': 224499494534, 'name': 'user 34', 'screen_name': 'Twitter User', 'location': 'Internet', 'url': 'user URL', 'description': 'user description'}\n",
      "{'id': 224499494535, 'name': 'user 35', 'screen_name': 'Twitter User', 'location': 'Internet', 'url': 'user URL', 'description': 'user description'}\n",
      "{'id': 224499494536, 'name': 'user 36', 'screen_name': 'Twitter User', 'location': 'Internet', 'url': 'user URL', 'description': 'user description'}\n",
      "{'id': 224499494537, 'name': 'user 37', 'screen_name': 'Twitter User', 'location': 'Internet', 'url': 'user URL', 'description': 'user description'}\n",
      "{'id': 224499494538, 'name': 'user 38', 'screen_name': 'Twitter User', 'location': 'Internet', 'url': 'user URL', 'description': 'user description'}\n",
      "{'id': 224499494539, 'name': 'user 39', 'screen_name': 'Twitter User', 'location': 'Internet', 'url': 'user URL', 'description': 'user description'}\n",
      "{'id': 224499494540, 'name': 'user 40', 'screen_name': 'Twitter User', 'location': 'Internet', 'url': 'user URL', 'description': 'user description'}\n",
      "{'id': 224499494541, 'name': 'user 41', 'screen_name': 'Twitter User', 'location': 'Internet', 'url': 'user URL', 'description': 'user description'}\n",
      "{'id': 224499494542, 'name': 'user 42', 'screen_name': 'Twitter User', 'location': 'Internet', 'url': 'user URL', 'description': 'user description'}\n",
      "{'id': 224499494543, 'name': 'user 43', 'screen_name': 'Twitter User', 'location': 'Internet', 'url': 'user URL', 'description': 'user description'}\n",
      "{'id': 224499494544, 'name': 'user 44', 'screen_name': 'Twitter User', 'location': 'Internet', 'url': 'user URL', 'description': 'user description'}\n",
      "{'id': 224499494545, 'name': 'user 45', 'screen_name': 'Twitter User', 'location': 'Internet', 'url': 'user URL', 'description': 'user description'}\n",
      "{'id': 224499494546, 'name': 'user 46', 'screen_name': 'Twitter User', 'location': 'Internet', 'url': 'user URL', 'description': 'user description'}\n",
      "{'id': 224499494547, 'name': 'user 47', 'screen_name': 'Twitter User', 'location': 'Internet', 'url': 'user URL', 'description': 'user description'}\n",
      "{'id': 224499494548, 'name': 'user 48', 'screen_name': 'Twitter User', 'location': 'Internet', 'url': 'user URL', 'description': 'user description'}\n",
      "{'id': 224499494549, 'name': 'user 49', 'screen_name': 'Twitter User', 'location': 'Internet', 'url': 'user URL', 'description': 'user description'}\n",
      "{'id': 224499494550, 'name': 'user 50', 'screen_name': 'Twitter User', 'location': 'Internet', 'url': 'user URL', 'description': 'user description'}\n"
     ]
    }
   ],
   "source": [
    "#find $lt gt\n",
    "for doc in tweets.find({\"user.name\":{\"$gt\":\"user 12\"}}):\n",
    "    print(doc[\"user\"])"
   ]
  },
  {
   "cell_type": "code",
   "execution_count": 40,
   "id": "9f4fc8b0-6f66-45fa-bbcb-6b399ac58e80",
   "metadata": {},
   "outputs": [
    {
     "data": {
      "text/plain": [
       "UpdateResult({'n': 0, 'nModified': 0, 'ok': 1.0, 'updatedExisting': False}, acknowledged=True)"
      ]
     },
     "execution_count": 40,
     "metadata": {},
     "output_type": "execute_result"
    }
   ],
   "source": [
    "#update\n",
    "tweets.update_many({\"user.url\":\"updated url\"},\n",
    "                  {\"$set\":{\"user.url\":\"mew updated url\"},\n",
    "                  \"$currentDate\":{\"updated_time\":False}})"
   ]
  },
  {
   "cell_type": "code",
   "execution_count": 42,
   "id": "5a172826-9062-4955-b424-380e82c2fcc3",
   "metadata": {},
   "outputs": [
    {
     "data": {
      "text/plain": [
       "DeleteResult({'n': 2, 'ok': 1.0}, acknowledged=True)"
      ]
     },
     "execution_count": 42,
     "metadata": {},
     "output_type": "execute_result"
    }
   ],
   "source": [
    "#delete\n",
    "tweets.delete_many({\"user.name\":{\"$in\":[\"user 21\",\"user 22\"]}})"
   ]
  },
  {
   "cell_type": "code",
   "execution_count": 12,
   "id": "490bc4e0-ade8-4571-b63f-7968ce61290d",
   "metadata": {},
   "outputs": [],
   "source": [
    "cursor = tweets.find() #start of the collection"
   ]
  },
  {
   "cell_type": "code",
   "execution_count": 13,
   "id": "19764460-3d96-4bfc-8ac0-0eb4f9fec8f2",
   "metadata": {},
   "outputs": [
    {
     "data": {
      "text/plain": [
       "{'_id': ObjectId('65deaa68cadd406b2c8e6f10'),\n",
       " 'created_at': 'Thu Apr 06 15:24:15 +0000 2017',\n",
       " 'id_str': '1850006245121695744',\n",
       " 'text': \"Train people well enough so they can leave, treat them well enough so they don't want to. —@richardbranson\",\n",
       " 'user': {'id': 224499494501,\n",
       "  'name': 'user 01',\n",
       "  'screen_name': 'Twitter User',\n",
       "  'location': 'Internet',\n",
       "  'url': 'user URL',\n",
       "  'description': 'user description'},\n",
       " 'place': {},\n",
       " 'entities': {'hashtags': [],\n",
       "  'urls': [{'url': 'twt url sample',\n",
       "    'unwound': {'url': 'url sample', 'title': 'web page title'}}],\n",
       "  'user_mentions': []}}"
      ]
     },
     "execution_count": 13,
     "metadata": {},
     "output_type": "execute_result"
    }
   ],
   "source": [
    "tweets.find().next()  ##first "
   ]
  },
  {
   "cell_type": "code",
   "execution_count": 14,
   "id": "7f2224c4-a446-4c1a-bfda-a32fe68740dc",
   "metadata": {},
   "outputs": [
    {
     "data": {
      "text/plain": [
       "{'_id': ObjectId('65deaa68cadd406b2c8e6f10'),\n",
       " 'created_at': 'Thu Apr 06 15:24:15 +0000 2017',\n",
       " 'id_str': '1850006245121695744',\n",
       " 'text': \"Train people well enough so they can leave, treat them well enough so they don't want to. —@richardbranson\",\n",
       " 'user': {'id': 224499494501,\n",
       "  'name': 'user 01',\n",
       "  'screen_name': 'Twitter User',\n",
       "  'location': 'Internet',\n",
       "  'url': 'user URL',\n",
       "  'description': 'user description'},\n",
       " 'place': {},\n",
       " 'entities': {'hashtags': [],\n",
       "  'urls': [{'url': 'twt url sample',\n",
       "    'unwound': {'url': 'url sample', 'title': 'web page title'}}],\n",
       "  'user_mentions': []}}"
      ]
     },
     "execution_count": 14,
     "metadata": {},
     "output_type": "execute_result"
    }
   ],
   "source": [
    "cursor.next()     #cursor goes to the next doc"
   ]
  },
  {
   "cell_type": "code",
   "execution_count": 15,
   "id": "1c55caef-1f7e-42e7-b984-704dcf786ab8",
   "metadata": {},
   "outputs": [
    {
     "name": "stdout",
     "output_type": "stream",
     "text": [
      "{'_id': ObjectId('65deaa68cadd406b2c8e6f10'), 'created_at': 'Thu Apr 06 15:24:15 +0000 2017', 'id_str': '1850006245121695744', 'text': \"Train people well enough so they can leave, treat them well enough so they don't want to. —@richardbranson\", 'user': {'id': 224499494501, 'name': 'user 01', 'screen_name': 'Twitter User', 'location': 'Internet', 'url': 'user URL', 'description': 'user description'}, 'place': {}, 'entities': {'hashtags': [], 'urls': [{'url': 'twt url sample', 'unwound': {'url': 'url sample', 'title': 'web page title'}}], 'user_mentions': []}}\n",
      "{'_id': ObjectId('65deaa68cadd406b2c8e6f11'), 'created_at': 'Thu Apr 06 15:24:16 +0000 2017', 'id_str': '8150006245121695744', 'text': 'On Friday evening we welcomed our new MRes and PhD Students on a walking tour of the City. Some of them are International Students and enjoyed seeing the sights of Sydney!  #cityofsydney #macquarieuniexperience @Macquarie_Uni @mqintl @MQSciEng', 'user': {'id': 224499494502, 'name': 'user 02', 'screen_name': 'Twitter User', 'location': 'Internet', 'url': 'user URL', 'description': 'user description'}, 'place': {}, 'entities': {'hashtags': [], 'urls': [{'url': 'twt url sample', 'unwound': {'url': 'url sample', 'title': 'web page title'}}], 'user_mentions': []}}\n",
      "{'_id': ObjectId('65deaa68cadd406b2c8e6f12'), 'created_at': 'Thu Apr 06 15:24:17 +0000 2017', 'id_str': '8510006245121695744', 'text': 'Excited to publish the BPM Newsletter 1-2018, my first one! Download at https://tinyurl.com/y7ync633  @BPMConf #BPM2018', 'user': {'id': 224499494503, 'name': 'user 03', 'screen_name': 'Twitter User', 'location': 'Internet', 'url': 'user URL', 'description': 'user description'}, 'place': {}, 'entities': {'hashtags': [], 'urls': [{'url': 'twt url sample', 'unwound': {'url': 'url sample', 'title': 'web page title'}}], 'user_mentions': []}}\n",
      "{'_id': ObjectId('65deaa68cadd406b2c8e6f13'), 'created_at': 'Thu Apr 06 15:24:18 +0000 2017', 'id_str': '8501006245121695744', 'text': 'Our social networks  amplify negative more than the positive. Great article  https://washingtonmonthly.com/magazine/january-february-march-2018/how-to-fix-facebook-before-it-fixes-us/ … cc @webfoundation', 'user': {'id': 224499494504, 'name': 'user 04', 'screen_name': 'Twitter User', 'location': 'Internet', 'url': 'user URL', 'description': 'user description'}, 'place': {}, 'entities': {'hashtags': [], 'urls': [{'url': 'twt url sample', 'unwound': {'url': 'url sample', 'title': 'web page title'}}], 'user_mentions': []}}\n",
      "{'_id': ObjectId('65deaa68cadd406b2c8e6f14'), 'created_at': 'Thu Apr 06 15:24:19 +0000 2017', 'id_str': '8500106245121695744', 'text': 'Welcome to the official Department of Computing @computing_mq Twitter Account.', 'user': {'id': 224499494505, 'name': 'user 05', 'screen_name': 'Twitter User', 'location': 'Internet', 'url': 'user URL', 'description': 'user description'}, 'place': {}, 'entities': {'hashtags': [], 'urls': [{'url': 'twt url sample', 'unwound': {'url': 'url sample', 'title': 'web page title'}}], 'user_mentions': []}}\n",
      "{'_id': ObjectId('65deaa68cadd406b2c8e6f15'), 'created_at': 'Thu Apr 06 15:24:20 +0000 2017', 'id_str': '8500016245121695744', 'text': \"Watch this incredible @TEDTalks with IBM scientist @BmiBruno titled 'How our brains will keep up with #AI' - and stay tuned for the fun ending - Hint: look at his shoes -  #TEDatIBM\", 'user': {'id': 224499494506, 'name': 'user 06', 'screen_name': 'Twitter User', 'location': 'Internet', 'url': 'user URL', 'description': 'user description'}, 'place': {}, 'entities': {'hashtags': [], 'urls': [{'url': 'twt url sample', 'unwound': {'url': 'url sample', 'title': 'web page title'}}], 'user_mentions': []}}\n",
      "{'_id': ObjectId('65deaa68cadd406b2c8e6f16'), 'created_at': 'Thu Apr 06 15:24:21 +0000 2017', 'id_str': '8500061245121695744', 'text': 'A man with Down Syndrome, with help from his Dad, is using his million-dollar company to show the world what people with learning disabilities are capable of. Amazing.', 'user': {'id': 224499494507, 'name': 'user 07', 'screen_name': 'Twitter User', 'location': 'Internet', 'url': 'user URL', 'description': 'user description'}, 'place': {}, 'entities': {'hashtags': [], 'urls': [{'url': 'twt url sample', 'unwound': {'url': 'url sample', 'title': 'web page title'}}], 'user_mentions': []}}\n",
      "{'_id': ObjectId('65deaa68cadd406b2c8e6f17'), 'created_at': 'Thu Apr 06 15:24:22 +0000 2017', 'id_str': '8500062145121695744', 'text': \"Be a good person, but don't waste your time trying to prove it\", 'user': {'id': 224499494508, 'name': 'user 08', 'screen_name': 'Twitter User', 'location': 'Internet', 'url': 'user URL', 'description': 'user description'}, 'place': {}, 'entities': {'hashtags': [], 'urls': [{'url': 'twt url sample', 'unwound': {'url': 'url sample', 'title': 'web page title'}}], 'user_mentions': []}}\n",
      "{'_id': ObjectId('65deaa68cadd406b2c8e6f18'), 'created_at': 'Thu Apr 06 15:24:23 +0000 2017', 'id_str': '8500062415121695744', 'text': 'Have you started writing your #BPM2018 paper? Only one month left till the abstract submission: http://bpm2018.web.cse.unsw.edu.au/Call_for_Papers.html ', 'user': {'id': 224499494509, 'name': 'user 09', 'screen_name': 'Twitter User', 'location': 'Internet', 'url': 'user URL', 'description': 'user description'}, 'place': {}, 'entities': {'hashtags': [], 'urls': [{'url': 'twt url sample', 'unwound': {'url': 'url sample', 'title': 'web page title'}}], 'user_mentions': []}}\n",
      "{'_id': ObjectId('65deaa68cadd406b2c8e6f19'), 'created_at': 'Thu Apr 06 15:24:24 +0000 2017', 'id_str': '8500062451121695744', 'text': \"The final http://deeplearning.ai  course on Sequence Models is now up on @Coursera! Projects you'll build include Speech trigger word detection, Translation, Emojification, Text generation, ... w/RNN, LSTM, GRU, Word embeddings & Attention. Hope you have fun with it!\", 'user': {'id': 224499494510, 'name': 'user 10', 'screen_name': 'Twitter User', 'location': 'Internet', 'url': 'user URL', 'description': 'user description'}, 'place': {}, 'entities': {'hashtags': [], 'urls': [{'url': 'twt url sample', 'unwound': {'url': 'url sample', 'title': 'web page title'}}], 'user_mentions': []}}\n",
      "{'_id': ObjectId('65deaa68cadd406b2c8e6f1a'), 'created_at': 'Thu Apr 06 15:24:25 +0000 2017', 'id_str': '8500062451121695744', 'text': 'Many people think that patience is a sign of weakness. I think this is a mistake. It is anger that is a sign of weakness, whereas patience is a sign of strength.', 'user': {'id': 224499494511, 'name': 'user 11', 'screen_name': 'Twitter User', 'location': 'Internet', 'url': 'user URL', 'description': 'user description'}, 'place': {}, 'entities': {'hashtags': [], 'urls': [{'url': 'twt url sample', 'unwound': {'url': 'url sample', 'title': 'web page title'}}], 'user_mentions': []}}\n",
      "{'_id': ObjectId('65deaa68cadd406b2c8e6f1b'), 'created_at': 'Thu Apr 06 15:24:26 +0000 2017', 'id_str': '8500062451211695744', 'text': '15-year olds Bailey Holt and Preston Cope, the two teens killed in the #KentuckySchoolShooting. It was the 11th school shooting of 2018. There are 7 days left in January.', 'user': {'id': 224499494512, 'name': 'user 12', 'screen_name': 'Twitter User', 'location': 'Internet', 'url': 'user URL', 'description': 'user description'}, 'place': {}, 'entities': {'hashtags': [], 'urls': [{'url': 'twt url sample', 'unwound': {'url': 'url sample', 'title': 'web page title'}}], 'user_mentions': []}}\n",
      "{'_id': ObjectId('65deaa68cadd406b2c8e6f1c'), 'created_at': 'Thu Apr 06 15:24:27 +0000 2017', 'id_str': '8500062451211695744', 'text': 'Her name is Avgi, and the last time anyone saw her face was in Greece nearly 9,000 years ago', 'user': {'id': 224499494513, 'name': 'user 13', 'screen_name': 'Twitter User', 'location': 'Internet', 'url': 'user URL', 'description': 'user description'}, 'place': {}, 'entities': {'hashtags': [], 'urls': [{'url': 'twt url sample', 'unwound': {'url': 'url sample', 'title': 'web page title'}}], 'user_mentions': []}}\n",
      "{'_id': ObjectId('65deaa68cadd406b2c8e6f1d'), 'created_at': 'Thu Apr 06 15:24:28 +0000 2017', 'id_str': '8500062451216195744', 'text': 'What’s past is past, nothing can change that. But the future can be different if we choose to make it so. We have to cultivate a vision of a happier, more peaceful future and make the effort now to bring it about. This is no time for complacency, hope lies in the action we take.', 'user': {'id': 224499494514, 'name': 'user 14', 'screen_name': 'Twitter User', 'location': 'Internet', 'url': 'user URL', 'description': 'user description'}, 'place': {}, 'entities': {'hashtags': [], 'urls': [{'url': 'twt url sample', 'unwound': {'url': 'url sample', 'title': 'web page title'}}], 'user_mentions': []}}\n",
      "{'_id': ObjectId('65deaa68cadd406b2c8e6f1e'), 'created_at': 'Thu Apr 06 15:24:29 +0000 2017', 'id_str': '8500062451216915744', 'text': 'Business Process Analytics deals with examining large and varied process related data (i.e. big process data) to uncover hidden patterns, unknown correlations, market trends, customer preferences and other useful insights. ', 'user': {'id': 224499494515, 'name': 'user 15', 'screen_name': 'Twitter User', 'location': 'Internet', 'url': 'user URL', 'description': 'user description'}, 'place': {}, 'entities': {'hashtags': [], 'urls': [{'url': 'twt url sample', 'unwound': {'url': 'url sample', 'title': 'web page title'}}], 'user_mentions': []}}\n",
      "{'_id': ObjectId('65deaa68cadd406b2c8e6f1f'), 'created_at': 'Thu Apr 06 15:24:30 +0000 2017', 'id_str': '8500062451216951744', 'text': 'Modern education pays little attention to inner values and yet our basic human nature is compassionate. We need to incorporate compassion and warm-heartedness into the modern education system to make it more holistic.', 'user': {'id': 224499494516, 'name': 'user 16', 'screen_name': 'Twitter User', 'location': 'Internet', 'url': 'user URL', 'description': 'user description'}, 'place': {}, 'entities': {'hashtags': [], 'urls': [{'url': 'twt url sample', 'unwound': {'url': 'url sample', 'title': 'web page title'}}], 'user_mentions': []}}\n",
      "{'_id': ObjectId('65deaa68cadd406b2c8e6f20'), 'created_at': 'Thu Apr 06 15:24:31 +0000 2017', 'id_str': '8500062451216957144', 'text': 'Happiness shouldn’t be a goal, it should be a habit https://virg.in/J3r ', 'user': {'id': 224499494517, 'name': 'user 17', 'screen_name': 'Twitter User', 'location': 'Internet', 'url': 'user URL', 'description': 'user description'}, 'place': {}, 'entities': {'hashtags': [], 'urls': [{'url': 'twt url sample', 'unwound': {'url': 'url sample', 'title': 'web page title'}}], 'user_mentions': []}}\n",
      "{'_id': ObjectId('65deaa68cadd406b2c8e6f21'), 'created_at': 'Thu Apr 06 15:24:32 +0000 2017', 'id_str': '8500062451216957414', 'text': 'The way you perceive and react to the world is a choice. ~David Wallace Choose wisely! 2018 is your chance!', 'user': {'id': 224499494518, 'name': 'user 18', 'screen_name': 'Twitter User', 'location': 'Internet', 'url': 'user URL', 'description': 'user description'}, 'place': {}, 'entities': {'hashtags': [], 'urls': [{'url': 'twt url sample', 'unwound': {'url': 'url sample', 'title': 'web page title'}}], 'user_mentions': []}}\n",
      "{'_id': ObjectId('65deaa68cadd406b2c8e6f22'), 'created_at': 'Thu Apr 06 15:24:33 +0000 2017', 'id_str': '8500062451216957441', 'text': 'Relive the breathtaking 2017 #SydNYE fireworks display - see the highlights of our biggest fireworks display ever', 'user': {'id': 224499494519, 'name': 'user 19', 'screen_name': 'Twitter User', 'location': 'Internet', 'url': 'user URL', 'description': 'user description'}, 'place': {}, 'entities': {'hashtags': [], 'urls': [{'url': 'twt url sample', 'unwound': {'url': 'url sample', 'title': 'web page title'}}], 'user_mentions': []}}\n",
      "{'_id': ObjectId('65deaa68cadd406b2c8e6f23'), 'created_at': 'Thu Apr 06 15:24:34 +0000 2017', 'id_str': '2850006245121695744', 'text': 'The Sydney fireworks always looks amazing, on my bucket list to be there for New Years:) Wishing everyone happiness and good health in 2018!', 'user': {'id': 224499494520, 'name': 'user 20', 'screen_name': 'Twitter User', 'location': 'Internet', 'url': 'user URL', 'description': 'user description'}, 'place': {}, 'entities': {'hashtags': [], 'urls': [{'url': 'twt url sample', 'unwound': {'url': 'url sample', 'title': 'web page title'}}], 'user_mentions': []}}\n",
      "{'_id': ObjectId('65deaa68cadd406b2c8e6f24'), 'created_at': 'Thu Apr 06 15:24:35 +0000 2017', 'id_str': '8250006245121695744', 'text': \"'Measuring programming progress by lines of code is like measuring aircraft building progress by weight.' - Bill Gates\", 'user': {'id': 224499494521, 'name': 'user 21', 'screen_name': 'Twitter User', 'location': 'Internet', 'url': 'user URL', 'description': 'user description'}, 'place': {}, 'entities': {'hashtags': [], 'urls': [{'url': 'twt url sample', 'unwound': {'url': 'url sample', 'title': 'web page title'}}], 'user_mentions': []}}\n",
      "{'_id': ObjectId('65deaa68cadd406b2c8e6f25'), 'created_at': 'Thu Apr 06 15:24:36 +0000 2017', 'id_str': '8502006245121695744', 'text': 'Today is the #WinterSolstice, which is also the shortest day of the year! What are solstices & equinoxes, and why do they occur? Get the answers: http://go.nasa.gov/2Bg1aPv ', 'user': {'id': 224499494522, 'name': 'user 22', 'screen_name': 'Twitter User', 'location': 'Internet', 'url': 'user URL', 'description': 'user description'}, 'place': {}, 'entities': {'hashtags': [], 'urls': [{'url': 'twt url sample', 'unwound': {'url': 'url sample', 'title': 'web page title'}}], 'user_mentions': []}}\n",
      "{'_id': ObjectId('65deaa68cadd406b2c8e6f26'), 'created_at': 'Thu Apr 06 15:24:37 +0000 2017', 'id_str': '8500206245121695744', 'text': \"Want your first AI job? Come intern with me! We're running an internship program that will help people who've completed MOOCs start employment in AI. http://landing.ai/ai-internship \", 'user': {'id': 224499494523, 'name': 'user 23', 'screen_name': 'Twitter User', 'location': 'Internet', 'url': 'user URL', 'description': 'user description'}, 'place': {}, 'entities': {'hashtags': [], 'urls': [{'url': 'twt url sample', 'unwound': {'url': 'url sample', 'title': 'web page title'}}], 'user_mentions': []}}\n",
      "{'_id': ObjectId('65deaa68cadd406b2c8e6f27'), 'created_at': 'Thu Apr 06 15:24:38 +0000 2017', 'id_str': '8500026245121695744', 'text': \"No one in the brief history of computing has ever written a piece of perfect software. It's unlikely that you'll be the first. - Andy Hunt\", 'user': {'id': 224499494524, 'name': 'user 24', 'screen_name': 'Twitter User', 'location': 'Internet', 'url': 'user URL', 'description': 'user description'}, 'place': {}, 'entities': {'hashtags': [], 'urls': [{'url': 'twt url sample', 'unwound': {'url': 'url sample', 'title': 'web page title'}}], 'user_mentions': []}}\n",
      "{'_id': ObjectId('65deaa68cadd406b2c8e6f28'), 'created_at': 'Thu Apr 06 15:24:39 +0000 2017', 'id_str': '8500062245121695744', 'text': 'If you’re looking for a great read to enjoy over the holidays, you can’t go wrong with one of these books.', 'user': {'id': 224499494525, 'name': 'user 25', 'screen_name': 'Twitter User', 'location': 'Internet', 'url': 'user URL', 'description': 'user description'}, 'place': {}, 'entities': {'hashtags': [], 'urls': [{'url': 'twt url sample', 'unwound': {'url': 'url sample', 'title': 'web page title'}}], 'user_mentions': []}}\n",
      "{'_id': ObjectId('65deaa68cadd406b2c8e6f29'), 'created_at': 'Thu Apr 06 15:24:40 +0000 2017', 'id_str': '8500062425121695744', 'text': 'This kind photographer turned kids with illnesses and disabilities into superheroes #SundayMorning', 'user': {'id': 224499494526, 'name': 'user 26', 'screen_name': 'Twitter User', 'location': 'Internet', 'url': 'user URL', 'description': 'user description'}, 'place': {}, 'entities': {'hashtags': [], 'urls': [{'url': 'twt url sample', 'unwound': {'url': 'url sample', 'title': 'web page title'}}], 'user_mentions': []}}\n",
      "{'_id': ObjectId('65deaa68cadd406b2c8e6f2a'), 'created_at': 'Thu Apr 06 15:24:41 +0000 2017', 'id_str': '8500062451221695744', 'text': \"Thinking a lot about diversity in AI. Here's my current Stanford group: https://stanfordmlgroup.github.io/#people  We striving to do better and increase diversity. AI needs to welcome everyone!\", 'user': {'id': 224499494527, 'name': 'user 27', 'screen_name': 'Twitter User', 'location': 'Internet', 'url': 'user URL', 'description': 'user description'}, 'place': {}, 'entities': {'hashtags': [], 'urls': [{'url': 'twt url sample', 'unwound': {'url': 'url sample', 'title': 'web page title'}}], 'user_mentions': []}}\n",
      "{'_id': ObjectId('65deaa68cadd406b2c8e6f2b'), 'created_at': 'Thu Apr 06 15:24:42 +0000 2017', 'id_str': '8500062451212695744', 'text': 'What is important is not so much how long you live as whether you live a meaningful life. This doesn’t mean accumulating money and fame, but being of service to your fellow human beings. It means helping others if you can, but even if you can’t do that, at least not harming them.', 'user': {'id': 224499494528, 'name': 'user 28', 'screen_name': 'Twitter User', 'location': 'Internet', 'url': 'user URL', 'description': 'user description'}, 'place': {}, 'entities': {'hashtags': [], 'urls': [{'url': 'twt url sample', 'unwound': {'url': 'url sample', 'title': 'web page title'}}], 'user_mentions': []}}\n",
      "{'_id': ObjectId('65deaa68cadd406b2c8e6f2c'), 'created_at': 'Thu Apr 06 15:24:43 +0000 2017', 'id_str': '8500062451216295744', 'text': 'If you ever wondered about the role of a senior pc member or a general chair at BPM conferences, check the new version of the BPM Conference Guidelines at http://bit.ly/2A2NWG1 ', 'user': {'id': 224499494529, 'name': 'user 29', 'screen_name': 'Twitter User', 'location': 'Internet', 'url': 'user URL', 'description': 'user description'}, 'place': {}, 'entities': {'hashtags': [], 'urls': [{'url': 'twt url sample', 'unwound': {'url': 'url sample', 'title': 'web page title'}}], 'user_mentions': []}}\n",
      "{'_id': ObjectId('65deaa68cadd406b2c8e6f2d'), 'created_at': 'Thu Apr 06 15:24:44 +0000 2017', 'id_str': '8500062451216925744', 'text': 'Boston Dynamics new Atlas robot', 'user': {'id': 224499494530, 'name': 'user 30', 'screen_name': 'Twitter User', 'location': 'Internet', 'url': 'user URL', 'description': 'user description'}, 'place': {}, 'entities': {'hashtags': [], 'urls': [{'url': 'twt url sample', 'unwound': {'url': 'url sample', 'title': 'web page title'}}], 'user_mentions': []}}\n",
      "{'_id': ObjectId('65deaa68cadd406b2c8e6f2e'), 'created_at': 'Thu Apr 06 15:24:45 +0000 2017', 'id_str': '8500062451216952744', 'text': 'The use of force may control people physically, but it won’t change their hearts and minds. You can only do that on the basis of trust and friendship.', 'user': {'id': 224499494531, 'name': 'user 31', 'screen_name': 'Twitter User', 'location': 'Internet', 'url': 'user URL', 'description': 'user description'}, 'place': {}, 'entities': {'hashtags': [], 'urls': [{'url': 'twt url sample', 'unwound': {'url': 'url sample', 'title': 'web page title'}}], 'user_mentions': []}}\n",
      "{'_id': ObjectId('65deaa68cadd406b2c8e6f2f'), 'created_at': 'Thu Apr 06 15:24:46 +0000 2017', 'id_str': '8500062451216957244', 'text': 'CoreDB: a Data Lake Service: http://youtu.be/uCOn67IdrPU?a  via @YouTube', 'user': {'id': 224499494532, 'name': 'user 32', 'screen_name': 'Twitter User', 'location': 'Internet', 'url': 'user URL', 'description': 'user description'}, 'place': {}, 'entities': {'hashtags': [], 'urls': [{'url': 'twt url sample', 'unwound': {'url': 'url sample', 'title': 'web page title'}}], 'user_mentions': []}}\n",
      "{'_id': ObjectId('65deaa68cadd406b2c8e6f30'), 'created_at': 'Thu Apr 06 15:24:47 +0000 2017', 'id_str': '8500062451216957424', 'text': 'Happy Day of Cyrus the Great, the King of Persia - 29 October. Here is a drawing I made almost one year ago when I visited his tomb.', 'user': {'id': 224499494533, 'name': 'user 33', 'screen_name': 'Twitter User', 'location': 'Internet', 'url': 'user URL', 'description': 'user description'}, 'place': {}, 'entities': {'hashtags': [], 'urls': [{'url': 'twt url sample', 'unwound': {'url': 'url sample', 'title': 'web page title'}}], 'user_mentions': []}}\n",
      "{'_id': ObjectId('65deaa68cadd406b2c8e6f31'), 'created_at': 'Thu Apr 06 15:24:48 +0000 2017', 'id_str': '8500062451216957442', 'text': 'Optical Illusion Crosswalk Aims to Slow Down Speedy Iceland Drivers', 'user': {'id': 224499494534, 'name': 'user 34', 'screen_name': 'Twitter User', 'location': 'Internet', 'url': 'user URL', 'description': 'user description'}, 'place': {}, 'entities': {'hashtags': [], 'urls': [{'url': 'twt url sample', 'unwound': {'url': 'url sample', 'title': 'web page title'}}], 'user_mentions': []}}\n",
      "{'_id': ObjectId('65deaa68cadd406b2c8e6f32'), 'created_at': 'Thu Apr 06 15:24:49 +0000 2017', 'id_str': '3850006245121695744', 'text': 'Interested in co-locating your workshop with #BPM2018? Have a look at the call for workshop proposals: http://bit.ly/2gnxUNY ', 'user': {'id': 224499494535, 'name': 'user 35', 'screen_name': 'Twitter User', 'location': 'Internet', 'url': 'user URL', 'description': 'user description'}, 'place': {}, 'entities': {'hashtags': [], 'urls': [{'url': 'twt url sample', 'unwound': {'url': 'url sample', 'title': 'web page title'}}], 'user_mentions': []}}\n",
      "{'_id': ObjectId('65deaa68cadd406b2c8e6f33'), 'created_at': 'Thu Apr 06 15:24:50 +0000 2017', 'id_str': '8350006245121695744', 'text': 'How can a chatbot help with mental health? Great article on Woebot. @willknight', 'user': {'id': 224499494536, 'name': 'user 36', 'screen_name': 'Twitter User', 'location': 'Internet', 'url': 'user URL', 'description': 'user description'}, 'place': {}, 'entities': {'hashtags': [], 'urls': [{'url': 'twt url sample', 'unwound': {'url': 'url sample', 'title': 'web page title'}}], 'user_mentions': []}}\n",
      "{'_id': ObjectId('65deaa68cadd406b2c8e6f34'), 'created_at': 'Thu Apr 06 15:24:51 +0000 2017', 'id_str': '8530006245121695744', 'text': 'Figure out your data structures, and the code will follow. - William Laeder', 'user': {'id': 224499494537, 'name': 'user 37', 'screen_name': 'Twitter User', 'location': 'Internet', 'url': 'user URL', 'description': 'user description'}, 'place': {}, 'entities': {'hashtags': [], 'urls': [{'url': 'twt url sample', 'unwound': {'url': 'url sample', 'title': 'web page title'}}], 'user_mentions': []}}\n",
      "{'_id': ObjectId('65deaa68cadd406b2c8e6f35'), 'created_at': 'Thu Apr 06 15:24:52 +0000 2017', 'id_str': '8503006245121695744', 'text': 'Learning by playing #games is a key way that humans & animals build intelligence. #AI can work the same way https://www.topbots.com/how-games-make-ai-smarter-openai-starcraft-minecraft/ … #ML', 'user': {'id': 224499494538, 'name': 'user 38', 'screen_name': 'Twitter User', 'location': 'Internet', 'url': 'user URL', 'description': 'user description'}, 'place': {}, 'entities': {'hashtags': [], 'urls': [{'url': 'twt url sample', 'unwound': {'url': 'url sample', 'title': 'web page title'}}], 'user_mentions': []}}\n",
      "{'_id': ObjectId('65deaa68cadd406b2c8e6f36'), 'created_at': 'Thu Apr 06 15:24:53 +0000 2017', 'id_str': '8500306245121695744', 'text': '@Samsung Bought a fridge, 2000$, makes noise like a jackhammer (60 dB) customer service tells me to wait SIX MONTHS. bs. #samsungshameshame', 'user': {'id': 224499494539, 'name': 'user 39', 'screen_name': 'Twitter User', 'location': 'Internet', 'url': 'user URL', 'description': 'user description'}, 'place': {}, 'entities': {'hashtags': [], 'urls': [{'url': 'twt url sample', 'unwound': {'url': 'url sample', 'title': 'web page title'}}], 'user_mentions': []}}\n",
      "{'_id': ObjectId('65deaa68cadd406b2c8e6f37'), 'created_at': 'Thu Apr 06 15:24:54 +0000 2017', 'id_str': '8500036245121695744', 'text': 'Hundreds of millions of students spending years in school while learning virtually nothing. We need to do better!', 'user': {'id': 224499494540, 'name': 'user 40', 'screen_name': 'Twitter User', 'location': 'Internet', 'url': 'user URL', 'description': 'user description'}, 'place': {}, 'entities': {'hashtags': [], 'urls': [{'url': 'twt url sample', 'unwound': {'url': 'url sample', 'title': 'web page title'}}], 'user_mentions': []}}\n",
      "{'_id': ObjectId('65deaa68cadd406b2c8e6f38'), 'created_at': 'Thu Apr 06 15:24:55 +0000 2017', 'id_str': '8500063245121695744', 'text': 'Failure is not falling down, but refusing to get up.~Chinese Proverb', 'user': {'id': 224499494541, 'name': 'user 41', 'screen_name': 'Twitter User', 'location': 'Internet', 'url': 'user URL', 'description': 'user description'}, 'place': {}, 'entities': {'hashtags': [], 'urls': [{'url': 'twt url sample', 'unwound': {'url': 'url sample', 'title': 'web page title'}}], 'user_mentions': []}}\n",
      "{'_id': ObjectId('65deaa68cadd406b2c8e6f39'), 'created_at': 'Thu Apr 06 15:24:56 +0000 2017', 'id_str': '8500062453121695744', 'text': 'Putin says the nation that leads in AI ‘will be the ruler of the world’', 'user': {'id': 224499494542, 'name': 'user 42', 'screen_name': 'Twitter User', 'location': 'Internet', 'url': 'user URL', 'description': 'user description'}, 'place': {}, 'entities': {'hashtags': [], 'urls': [{'url': 'twt url sample', 'unwound': {'url': 'url sample', 'title': 'web page title'}}], 'user_mentions': []}}\n",
      "{'_id': ObjectId('65deaa68cadd406b2c8e6f3a'), 'created_at': 'Thu Apr 06 15:24:57 +0000 2017', 'id_str': '8500062451216395744', 'text': 'Putting everyday objects in the hands of great teachers can lead to magical moments in the classroom…', 'user': {'id': 224499494543, 'name': 'user 43', 'screen_name': 'Twitter User', 'location': 'Internet', 'url': 'user URL', 'description': 'user description'}, 'place': {}, 'entities': {'hashtags': [], 'urls': [{'url': 'twt url sample', 'unwound': {'url': 'url sample', 'title': 'web page title'}}], 'user_mentions': []}}\n",
      "{'_id': ObjectId('65deaa68cadd406b2c8e6f3b'), 'created_at': 'Thu Apr 06 15:24:58 +0000 2017', 'id_str': '8500062451216957344', 'text': 'You may control people physically by force, but you won’t change their hearts and minds—that requires trust and friendship.', 'user': {'id': 224499494544, 'name': 'user 44', 'screen_name': 'Twitter User', 'location': 'Internet', 'url': 'user URL', 'description': 'user description'}, 'place': {}, 'entities': {'hashtags': [], 'urls': [{'url': 'twt url sample', 'unwound': {'url': 'url sample', 'title': 'web page title'}}], 'user_mentions': []}}\n",
      "{'_id': ObjectId('65deaa68cadd406b2c8e6f3c'), 'created_at': 'Thu Apr 06 15:24:59 +0000 2017', 'id_str': '8500062451216957434', 'text': 'Congrats to Dr @Jemma_Geoghegan, recipient of a Young Tall Poppy Science Award for her work in evolutionary biology! http://macq.it/2v3fVkQ ', 'user': {'id': 224499494545, 'name': 'user 45', 'screen_name': 'Twitter User', 'location': 'Internet', 'url': 'user URL', 'description': 'user description'}, 'place': {}, 'entities': {'hashtags': [], 'urls': [{'url': 'twt url sample', 'unwound': {'url': 'url sample', 'title': 'web page title'}}], 'user_mentions': []}}\n",
      "{'_id': ObjectId('65deaa68cadd406b2c8e6f3d'), 'created_at': 'Thu Apr 06 15:25:01 +0000 2017', 'id_str': '8500062451216957443', 'text': \"There is a growing danger we are slowly sleepwalking into war on the Korean Peninsula. My reflections in today's @FT\", 'user': {'id': 224499494546, 'name': 'user 46', 'screen_name': 'Twitter User', 'location': 'Internet', 'url': 'user URL', 'description': 'user description'}, 'place': {}, 'entities': {'hashtags': [], 'urls': [{'url': 'twt url sample', 'unwound': {'url': 'url sample', 'title': 'web page title'}}], 'user_mentions': []}}\n",
      "{'_id': ObjectId('65deaa68cadd406b2c8e6f3e'), 'created_at': 'Thu Apr 06 15:25:02 +0000 2017', 'id_str': '5850006245121695744', 'text': 'One of the most brilliant and chilling things ever written about nuclear war, by the late Roger Fisher.', 'user': {'id': 224499494547, 'name': 'user 47', 'screen_name': 'Twitter User', 'location': 'Internet', 'url': 'user URL', 'description': 'user description'}, 'place': {}, 'entities': {'hashtags': [], 'urls': [{'url': 'twt url sample', 'unwound': {'url': 'url sample', 'title': 'web page title'}}], 'user_mentions': []}}\n",
      "{'_id': ObjectId('65deaa68cadd406b2c8e6f3f'), 'created_at': 'Thu Apr 06 15:25:03 +0000 2017', 'id_str': '8505006245121695744', 'text': 'There are few things I enjoy more than reading a good book. Here are a few I’ve read and recommend: http://bit.ly/2wJGOLK  #BookLoversDay', 'user': {'id': 224499494548, 'name': 'user 48', 'screen_name': 'Twitter User', 'location': 'Internet', 'url': 'user URL', 'description': 'user description'}, 'place': {}, 'entities': {'hashtags': [], 'urls': [{'url': 'twt url sample', 'unwound': {'url': 'url sample', 'title': 'web page title'}}], 'user_mentions': []}}\n",
      "{'_id': ObjectId('65deaa68cadd406b2c8e6f40'), 'created_at': 'Thu Apr 06 15:25:04 +0000 2017', 'id_str': '8500062451215695744', 'text': 'Announcing deeplearning.ai! Deep Learning on Coursera: Master Deep Learning, and build a career in AI!', 'user': {'id': 224499494549, 'name': 'user 49', 'screen_name': 'Twitter User', 'location': 'Internet', 'url': 'user URL', 'description': 'user description'}, 'place': {}, 'entities': {'hashtags': [], 'urls': [{'url': 'twt url sample', 'unwound': {'url': 'url sample', 'title': 'web page title'}}], 'user_mentions': []}}\n",
      "{'_id': ObjectId('65deaa68cadd406b2c8e6f41'), 'created_at': 'Thu Apr 06 15:25:06 +0000 2017', 'id_str': '8500062451216957544', 'text': 'The universe is a pretty big place. If it’s just us, seems like an awful waste of space. ~Carl Sagan', 'user': {'id': 224499494550, 'name': 'user 50', 'screen_name': 'Twitter User', 'location': 'Internet', 'url': 'user URL', 'description': 'user description'}, 'place': {}, 'entities': {'hashtags': [], 'urls': [{'url': 'twt url sample', 'unwound': {'url': 'url sample', 'title': 'web page title'}}], 'user_mentions': []}}\n",
      "{'_id': ObjectId('65deadb08fe030d04864fbd6'), 'user': 'user 51', 'new_field': 'test'}\n",
      "{'_id': ObjectId('65deadb08fe030d04864fbd7'), 'user': 'user 52'}\n",
      "{'_id': ObjectId('65deadb08fe030d04864fbd8'), 'user': 'user 53'}\n",
      "{'_id': ObjectId('65deadb48fe030d04864fbd9'), 'user': 'user 51', 'new_field': 'test'}\n",
      "{'_id': ObjectId('65deadb48fe030d04864fbda'), 'user': 'user 52'}\n",
      "{'_id': ObjectId('65deadb48fe030d04864fbdb'), 'user': 'user 53'}\n",
      "{'_id': ObjectId('65deadb98fe030d04864fbdc'), 'user': 'user 51', 'new_field': 'test'}\n",
      "{'_id': ObjectId('65deadb98fe030d04864fbdd'), 'user': 'user 52'}\n",
      "{'_id': ObjectId('65deadb98fe030d04864fbde'), 'user': 'user 53'}\n",
      "{'_id': ObjectId('65deae938fe030d04864fbdf'), 'user': 'user 51', 'new_field': 'test'}\n",
      "{'_id': ObjectId('65deae938fe030d04864fbe0'), 'user': 'user 52'}\n",
      "{'_id': ObjectId('65deae938fe030d04864fbe1'), 'user': 'user 53'}\n",
      "{'_id': ObjectId('65deae938fe030d04864fbe2'), 'user': 'user 51', 'new_field': 'test'}\n",
      "{'_id': ObjectId('65deae938fe030d04864fbe3'), 'user': 'user 52'}\n",
      "{'_id': ObjectId('65deae938fe030d04864fbe4'), 'user': 'user 53'}\n",
      "{'_id': ObjectId('65deaf4f8fe030d04864fbe5'), 'user': 'user 51', 'new_field': 'test'}\n",
      "{'_id': ObjectId('65deaf4f8fe030d04864fbe6'), 'user': 'user 52'}\n",
      "{'_id': ObjectId('65deaf4f8fe030d04864fbe7'), 'user': 'user 53'}\n",
      "{'_id': ObjectId('65deaf4f8fe030d04864fbe8'), 'user': 'user 51', 'new_field': 'test'}\n",
      "{'_id': ObjectId('65deaf4f8fe030d04864fbe9'), 'user': 'user 52'}\n",
      "{'_id': ObjectId('65deaf4f8fe030d04864fbea'), 'user': 'user 53'}\n",
      "{'_id': ObjectId('65deaf4f8fe030d04864fbeb'), 'user': 'user 58'}\n",
      "{'_id': ObjectId('65deaf4f8fe030d04864fbec'), 'user': 'user 59'}\n",
      "{'_id': ObjectId('65deb0728fe030d04864fbed'), 'user': 'user 51', 'new_field': 'test'}\n",
      "{'_id': ObjectId('65deb0728fe030d04864fbee'), 'user': 'user 52'}\n",
      "{'_id': ObjectId('65deb0728fe030d04864fbef'), 'user': 'user 53'}\n",
      "{'_id': ObjectId('65deb0728fe030d04864fbf0'), 'user': 'user 51', 'new_field': 'test'}\n",
      "{'_id': ObjectId('65deb0728fe030d04864fbf1'), 'user': 'user 52'}\n",
      "{'_id': ObjectId('65deb0728fe030d04864fbf2'), 'user': 'user 53'}\n",
      "{'_id': ObjectId('65deb0728fe030d04864fbf3'), 'user': 'user 58'}\n",
      "{'_id': ObjectId('65deb0728fe030d04864fbf4'), 'user': 'user 59'}\n",
      "{'_id': ObjectId('65deb0728fe030d04864fbf5'), 'user.name': 'user 59'}\n",
      "{'_id': ObjectId('65deb5658fe030d04864fbf6'), 'user': 'user 51', 'new_field': 'test'}\n",
      "{'_id': ObjectId('65deb5658fe030d04864fbf7'), 'user': 'user 52'}\n",
      "{'_id': ObjectId('65deb5658fe030d04864fbf8'), 'user': 'user 53'}\n",
      "{'_id': ObjectId('65deb5658fe030d04864fbf9'), 'user': 'user 51', 'new_field': 'test'}\n",
      "{'_id': ObjectId('65deb5658fe030d04864fbfa'), 'user': 'user 52'}\n",
      "{'_id': ObjectId('65deb5658fe030d04864fbfb'), 'user': 'user 53'}\n",
      "{'_id': ObjectId('65deb5658fe030d04864fbfc'), 'user': 'user 58'}\n",
      "{'_id': ObjectId('65deb5658fe030d04864fbfd'), 'user': 'user 59'}\n",
      "{'_id': ObjectId('65deb5658fe030d04864fbfe'), 'user.name': 'user 59'}\n",
      "{'_id': ObjectId('65deb7c58fe030d04864fbff'), 'user': 'user 51', 'new_field': 'test'}\n",
      "{'_id': ObjectId('65deb7c58fe030d04864fc00'), 'user': 'user 52'}\n",
      "{'_id': ObjectId('65deb7c58fe030d04864fc01'), 'user': 'user 53'}\n",
      "{'_id': ObjectId('65deb7c58fe030d04864fc02'), 'user': 'user 51', 'new_field': 'test'}\n",
      "{'_id': ObjectId('65deb7c58fe030d04864fc03'), 'user': 'user 52'}\n",
      "{'_id': ObjectId('65deb7c58fe030d04864fc04'), 'user': 'user 53'}\n",
      "{'_id': ObjectId('65deb7c58fe030d04864fc05'), 'user': 'user 58'}\n",
      "{'_id': ObjectId('65deb7c58fe030d04864fc06'), 'user': 'user 59'}\n",
      "{'_id': ObjectId('65deb7c58fe030d04864fc07'), 'user.name': 'user 59'}\n",
      "{'_id': ObjectId('65deb7c88fe030d04864fc08'), 'user': 'user 51', 'new_field': 'test'}\n",
      "{'_id': ObjectId('65deb7c88fe030d04864fc09'), 'user': 'user 52'}\n",
      "{'_id': ObjectId('65deb7c88fe030d04864fc0a'), 'user': 'user 53'}\n",
      "{'_id': ObjectId('65deb7c88fe030d04864fc0b'), 'user': 'user 51', 'new_field': 'test'}\n",
      "{'_id': ObjectId('65deb7c88fe030d04864fc0c'), 'user': 'user 52'}\n",
      "{'_id': ObjectId('65deb7c88fe030d04864fc0d'), 'user': 'user 53'}\n",
      "{'_id': ObjectId('65deb7c88fe030d04864fc0e'), 'user': 'user 58'}\n",
      "{'_id': ObjectId('65deb7c88fe030d04864fc0f'), 'user': 'user 59'}\n",
      "{'_id': ObjectId('65deb7c88fe030d04864fc10'), 'user.name': 'user 59'}\n",
      "{'_id': ObjectId('65deb7cc8fe030d04864fc11'), 'user': 'user 51', 'new_field': 'test'}\n",
      "{'_id': ObjectId('65deb7cc8fe030d04864fc12'), 'user': 'user 52'}\n",
      "{'_id': ObjectId('65deb7cc8fe030d04864fc13'), 'user': 'user 53'}\n",
      "{'_id': ObjectId('65deb7cc8fe030d04864fc14'), 'user': 'user 51', 'new_field': 'test'}\n",
      "{'_id': ObjectId('65deb7cc8fe030d04864fc15'), 'user': 'user 52'}\n",
      "{'_id': ObjectId('65deb7cc8fe030d04864fc16'), 'user': 'user 53'}\n",
      "{'_id': ObjectId('65deb7cc8fe030d04864fc17'), 'user': 'user 58'}\n",
      "{'_id': ObjectId('65deb7cc8fe030d04864fc18'), 'user': 'user 59'}\n",
      "{'_id': ObjectId('65deb7cc8fe030d04864fc19'), 'user.name': 'user 59'}\n",
      "{'_id': ObjectId('65deb7cf8fe030d04864fc1a'), 'user': 'user 51', 'new_field': 'test'}\n",
      "{'_id': ObjectId('65deb7cf8fe030d04864fc1b'), 'user': 'user 52'}\n",
      "{'_id': ObjectId('65deb7cf8fe030d04864fc1c'), 'user': 'user 53'}\n",
      "{'_id': ObjectId('65deb7cf8fe030d04864fc1d'), 'user': 'user 51', 'new_field': 'test'}\n",
      "{'_id': ObjectId('65deb7cf8fe030d04864fc1e'), 'user': 'user 52'}\n",
      "{'_id': ObjectId('65deb7cf8fe030d04864fc1f'), 'user': 'user 53'}\n",
      "{'_id': ObjectId('65deb7cf8fe030d04864fc20'), 'user': 'user 58'}\n",
      "{'_id': ObjectId('65deb7cf8fe030d04864fc21'), 'user': 'user 59'}\n",
      "{'_id': ObjectId('65deb7cf8fe030d04864fc22'), 'user.name': 'user 59'}\n",
      "{'_id': ObjectId('65deb7d58fe030d04864fc23'), 'user': 'user 51', 'new_field': 'test'}\n",
      "{'_id': ObjectId('65deb7d58fe030d04864fc24'), 'user': 'user 52'}\n",
      "{'_id': ObjectId('65deb7d58fe030d04864fc25'), 'user': 'user 53'}\n",
      "{'_id': ObjectId('65deb7d58fe030d04864fc26'), 'user': 'user 51', 'new_field': 'test'}\n",
      "{'_id': ObjectId('65deb7d58fe030d04864fc27'), 'user': 'user 52'}\n",
      "{'_id': ObjectId('65deb7d58fe030d04864fc28'), 'user': 'user 53'}\n",
      "{'_id': ObjectId('65deb7d58fe030d04864fc29'), 'user': 'user 58'}\n",
      "{'_id': ObjectId('65deb7d58fe030d04864fc2a'), 'user': 'user 59'}\n",
      "{'_id': ObjectId('65deb7d58fe030d04864fc2b'), 'user.name': 'user 59'}\n",
      "{'_id': ObjectId('65deb7d88fe030d04864fc2c'), 'user': 'user 51', 'new_field': 'test'}\n",
      "{'_id': ObjectId('65deb7d88fe030d04864fc2d'), 'user': 'user 52'}\n",
      "{'_id': ObjectId('65deb7d88fe030d04864fc2e'), 'user': 'user 53'}\n",
      "{'_id': ObjectId('65deb7d88fe030d04864fc2f'), 'user': 'user 51', 'new_field': 'test'}\n",
      "{'_id': ObjectId('65deb7d88fe030d04864fc30'), 'user': 'user 52'}\n",
      "{'_id': ObjectId('65deb7d88fe030d04864fc31'), 'user': 'user 53'}\n",
      "{'_id': ObjectId('65deb7d88fe030d04864fc32'), 'user': 'user 58'}\n",
      "{'_id': ObjectId('65deb7d88fe030d04864fc33'), 'user': 'user 59'}\n",
      "{'_id': ObjectId('65deb7d88fe030d04864fc34'), 'user.name': 'user 59'}\n",
      "{'_id': ObjectId('65deb8728fe030d04864fc35'), 'user': 'user 51', 'new_field': 'test'}\n",
      "{'_id': ObjectId('65deb8728fe030d04864fc36'), 'user': 'user 52'}\n",
      "{'_id': ObjectId('65deb8728fe030d04864fc37'), 'user': 'user 53'}\n",
      "{'_id': ObjectId('65deb8728fe030d04864fc38'), 'user': 'user 51', 'new_field': 'test'}\n",
      "{'_id': ObjectId('65deb8728fe030d04864fc39'), 'user': 'user 52'}\n",
      "{'_id': ObjectId('65deb8728fe030d04864fc3a'), 'user': 'user 53'}\n",
      "{'_id': ObjectId('65deb8728fe030d04864fc3b'), 'user': 'user 58'}\n",
      "{'_id': ObjectId('65deb8728fe030d04864fc3c'), 'user': 'user 59'}\n",
      "{'_id': ObjectId('65deb8728fe030d04864fc3d'), 'user.name': 'user 59'}\n",
      "{'_id': ObjectId('65deba2c8fe030d04864fc3e'), 'user': 'user 51', 'new_field': 'test'}\n",
      "{'_id': ObjectId('65deba2c8fe030d04864fc3f'), 'user': 'user 52'}\n",
      "{'_id': ObjectId('65deba2c8fe030d04864fc40'), 'user': 'user 53'}\n",
      "{'_id': ObjectId('65deba2c8fe030d04864fc41'), 'user': 'user 51', 'new_field': 'test'}\n",
      "{'_id': ObjectId('65deba2c8fe030d04864fc42'), 'user': 'user 52'}\n",
      "{'_id': ObjectId('65deba2c8fe030d04864fc43'), 'user': 'user 53'}\n",
      "{'_id': ObjectId('65deba2c8fe030d04864fc44'), 'user': 'user 58'}\n",
      "{'_id': ObjectId('65deba2c8fe030d04864fc45'), 'user': 'user 59'}\n",
      "{'_id': ObjectId('65deba2c8fe030d04864fc46'), 'user.name': 'user 59'}\n",
      "{'_id': ObjectId('65deba318fe030d04864fc47'), 'user': 'user 51', 'new_field': 'test'}\n",
      "{'_id': ObjectId('65deba318fe030d04864fc48'), 'user': 'user 52'}\n",
      "{'_id': ObjectId('65deba318fe030d04864fc49'), 'user': 'user 53'}\n",
      "{'_id': ObjectId('65deba318fe030d04864fc4a'), 'user': 'user 51', 'new_field': 'test'}\n",
      "{'_id': ObjectId('65deba318fe030d04864fc4b'), 'user': 'user 52'}\n",
      "{'_id': ObjectId('65deba318fe030d04864fc4c'), 'user': 'user 53'}\n",
      "{'_id': ObjectId('65deba318fe030d04864fc4d'), 'user': 'user 58'}\n",
      "{'_id': ObjectId('65deba318fe030d04864fc4e'), 'user': 'user 59'}\n",
      "{'_id': ObjectId('65deba318fe030d04864fc4f'), 'user.name': 'user 59'}\n",
      "{'_id': ObjectId('65deba368fe030d04864fc50'), 'user': 'user 51', 'new_field': 'test'}\n",
      "{'_id': ObjectId('65deba368fe030d04864fc51'), 'user': 'user 52'}\n",
      "{'_id': ObjectId('65deba368fe030d04864fc52'), 'user': 'user 53'}\n",
      "{'_id': ObjectId('65deba368fe030d04864fc53'), 'user': 'user 51', 'new_field': 'test'}\n",
      "{'_id': ObjectId('65deba368fe030d04864fc54'), 'user': 'user 52'}\n",
      "{'_id': ObjectId('65deba368fe030d04864fc55'), 'user': 'user 53'}\n",
      "{'_id': ObjectId('65deba368fe030d04864fc56'), 'user': 'user 58'}\n",
      "{'_id': ObjectId('65deba368fe030d04864fc57'), 'user': 'user 59'}\n",
      "{'_id': ObjectId('65deba368fe030d04864fc58'), 'user.name': 'user 59'}\n",
      "{'_id': ObjectId('65deba3c8fe030d04864fc59'), 'user': 'user 51', 'new_field': 'test'}\n",
      "{'_id': ObjectId('65deba3c8fe030d04864fc5a'), 'user': 'user 52'}\n",
      "{'_id': ObjectId('65deba3c8fe030d04864fc5b'), 'user': 'user 53'}\n",
      "{'_id': ObjectId('65deba3c8fe030d04864fc5c'), 'user': 'user 51', 'new_field': 'test'}\n",
      "{'_id': ObjectId('65deba3c8fe030d04864fc5d'), 'user': 'user 52'}\n",
      "{'_id': ObjectId('65deba3c8fe030d04864fc5e'), 'user': 'user 53'}\n",
      "{'_id': ObjectId('65deba3c8fe030d04864fc5f'), 'user': 'user 58'}\n",
      "{'_id': ObjectId('65deba3c8fe030d04864fc60'), 'user': 'user 59'}\n",
      "{'_id': ObjectId('65deba3c8fe030d04864fc61'), 'user.name': 'user 59'}\n"
     ]
    }
   ],
   "source": [
    "for doc in tweets.find():   #start of the collection\n",
    "    print(doc)"
   ]
  },
  {
   "cell_type": "code",
   "execution_count": 16,
   "id": "56a41095-afc0-4e61-93b8-92e1dfd03fdd",
   "metadata": {},
   "outputs": [
    {
     "name": "stdout",
     "output_type": "stream",
     "text": [
      "{'id': 224499494501, 'name': 'user 01', 'screen_name': 'Twitter User', 'location': 'Internet', 'url': 'user URL', 'description': 'user description'}\n",
      "{'id': 224499494502, 'name': 'user 02', 'screen_name': 'Twitter User', 'location': 'Internet', 'url': 'user URL', 'description': 'user description'}\n",
      "{'id': 224499494503, 'name': 'user 03', 'screen_name': 'Twitter User', 'location': 'Internet', 'url': 'user URL', 'description': 'user description'}\n",
      "{'id': 224499494504, 'name': 'user 04', 'screen_name': 'Twitter User', 'location': 'Internet', 'url': 'user URL', 'description': 'user description'}\n",
      "{'id': 224499494505, 'name': 'user 05', 'screen_name': 'Twitter User', 'location': 'Internet', 'url': 'user URL', 'description': 'user description'}\n",
      "{'id': 224499494506, 'name': 'user 06', 'screen_name': 'Twitter User', 'location': 'Internet', 'url': 'user URL', 'description': 'user description'}\n",
      "{'id': 224499494507, 'name': 'user 07', 'screen_name': 'Twitter User', 'location': 'Internet', 'url': 'user URL', 'description': 'user description'}\n",
      "{'id': 224499494508, 'name': 'user 08', 'screen_name': 'Twitter User', 'location': 'Internet', 'url': 'user URL', 'description': 'user description'}\n",
      "{'id': 224499494509, 'name': 'user 09', 'screen_name': 'Twitter User', 'location': 'Internet', 'url': 'user URL', 'description': 'user description'}\n",
      "{'id': 224499494510, 'name': 'user 10', 'screen_name': 'Twitter User', 'location': 'Internet', 'url': 'user URL', 'description': 'user description'}\n",
      "{'id': 224499494511, 'name': 'user 11', 'screen_name': 'Twitter User', 'location': 'Internet', 'url': 'user URL', 'description': 'user description'}\n",
      "{'id': 224499494512, 'name': 'user 12', 'screen_name': 'Twitter User', 'location': 'Internet', 'url': 'user URL', 'description': 'user description'}\n",
      "{'id': 224499494513, 'name': 'user 13', 'screen_name': 'Twitter User', 'location': 'Internet', 'url': 'user URL', 'description': 'user description'}\n",
      "{'id': 224499494514, 'name': 'user 14', 'screen_name': 'Twitter User', 'location': 'Internet', 'url': 'user URL', 'description': 'user description'}\n",
      "{'id': 224499494515, 'name': 'user 15', 'screen_name': 'Twitter User', 'location': 'Internet', 'url': 'user URL', 'description': 'user description'}\n",
      "{'id': 224499494516, 'name': 'user 16', 'screen_name': 'Twitter User', 'location': 'Internet', 'url': 'user URL', 'description': 'user description'}\n",
      "{'id': 224499494517, 'name': 'user 17', 'screen_name': 'Twitter User', 'location': 'Internet', 'url': 'user URL', 'description': 'user description'}\n",
      "{'id': 224499494518, 'name': 'user 18', 'screen_name': 'Twitter User', 'location': 'Internet', 'url': 'user URL', 'description': 'user description'}\n",
      "{'id': 224499494519, 'name': 'user 19', 'screen_name': 'Twitter User', 'location': 'Internet', 'url': 'user URL', 'description': 'user description'}\n",
      "{'id': 224499494520, 'name': 'user 20', 'screen_name': 'Twitter User', 'location': 'Internet', 'url': 'user URL', 'description': 'user description'}\n",
      "{'id': 224499494521, 'name': 'user 21', 'screen_name': 'Twitter User', 'location': 'Internet', 'url': 'user URL', 'description': 'user description'}\n",
      "{'id': 224499494522, 'name': 'user 22', 'screen_name': 'Twitter User', 'location': 'Internet', 'url': 'user URL', 'description': 'user description'}\n",
      "{'id': 224499494523, 'name': 'user 23', 'screen_name': 'Twitter User', 'location': 'Internet', 'url': 'user URL', 'description': 'user description'}\n",
      "{'id': 224499494524, 'name': 'user 24', 'screen_name': 'Twitter User', 'location': 'Internet', 'url': 'user URL', 'description': 'user description'}\n",
      "{'id': 224499494525, 'name': 'user 25', 'screen_name': 'Twitter User', 'location': 'Internet', 'url': 'user URL', 'description': 'user description'}\n",
      "{'id': 224499494526, 'name': 'user 26', 'screen_name': 'Twitter User', 'location': 'Internet', 'url': 'user URL', 'description': 'user description'}\n",
      "{'id': 224499494527, 'name': 'user 27', 'screen_name': 'Twitter User', 'location': 'Internet', 'url': 'user URL', 'description': 'user description'}\n",
      "{'id': 224499494528, 'name': 'user 28', 'screen_name': 'Twitter User', 'location': 'Internet', 'url': 'user URL', 'description': 'user description'}\n",
      "{'id': 224499494529, 'name': 'user 29', 'screen_name': 'Twitter User', 'location': 'Internet', 'url': 'user URL', 'description': 'user description'}\n",
      "{'id': 224499494530, 'name': 'user 30', 'screen_name': 'Twitter User', 'location': 'Internet', 'url': 'user URL', 'description': 'user description'}\n",
      "{'id': 224499494531, 'name': 'user 31', 'screen_name': 'Twitter User', 'location': 'Internet', 'url': 'user URL', 'description': 'user description'}\n",
      "{'id': 224499494532, 'name': 'user 32', 'screen_name': 'Twitter User', 'location': 'Internet', 'url': 'user URL', 'description': 'user description'}\n",
      "{'id': 224499494533, 'name': 'user 33', 'screen_name': 'Twitter User', 'location': 'Internet', 'url': 'user URL', 'description': 'user description'}\n",
      "{'id': 224499494534, 'name': 'user 34', 'screen_name': 'Twitter User', 'location': 'Internet', 'url': 'user URL', 'description': 'user description'}\n",
      "{'id': 224499494535, 'name': 'user 35', 'screen_name': 'Twitter User', 'location': 'Internet', 'url': 'user URL', 'description': 'user description'}\n",
      "{'id': 224499494536, 'name': 'user 36', 'screen_name': 'Twitter User', 'location': 'Internet', 'url': 'user URL', 'description': 'user description'}\n",
      "{'id': 224499494537, 'name': 'user 37', 'screen_name': 'Twitter User', 'location': 'Internet', 'url': 'user URL', 'description': 'user description'}\n",
      "{'id': 224499494538, 'name': 'user 38', 'screen_name': 'Twitter User', 'location': 'Internet', 'url': 'user URL', 'description': 'user description'}\n",
      "{'id': 224499494539, 'name': 'user 39', 'screen_name': 'Twitter User', 'location': 'Internet', 'url': 'user URL', 'description': 'user description'}\n",
      "{'id': 224499494540, 'name': 'user 40', 'screen_name': 'Twitter User', 'location': 'Internet', 'url': 'user URL', 'description': 'user description'}\n",
      "{'id': 224499494541, 'name': 'user 41', 'screen_name': 'Twitter User', 'location': 'Internet', 'url': 'user URL', 'description': 'user description'}\n",
      "{'id': 224499494542, 'name': 'user 42', 'screen_name': 'Twitter User', 'location': 'Internet', 'url': 'user URL', 'description': 'user description'}\n",
      "{'id': 224499494543, 'name': 'user 43', 'screen_name': 'Twitter User', 'location': 'Internet', 'url': 'user URL', 'description': 'user description'}\n",
      "{'id': 224499494544, 'name': 'user 44', 'screen_name': 'Twitter User', 'location': 'Internet', 'url': 'user URL', 'description': 'user description'}\n",
      "{'id': 224499494545, 'name': 'user 45', 'screen_name': 'Twitter User', 'location': 'Internet', 'url': 'user URL', 'description': 'user description'}\n",
      "{'id': 224499494546, 'name': 'user 46', 'screen_name': 'Twitter User', 'location': 'Internet', 'url': 'user URL', 'description': 'user description'}\n",
      "{'id': 224499494547, 'name': 'user 47', 'screen_name': 'Twitter User', 'location': 'Internet', 'url': 'user URL', 'description': 'user description'}\n",
      "{'id': 224499494548, 'name': 'user 48', 'screen_name': 'Twitter User', 'location': 'Internet', 'url': 'user URL', 'description': 'user description'}\n",
      "{'id': 224499494549, 'name': 'user 49', 'screen_name': 'Twitter User', 'location': 'Internet', 'url': 'user URL', 'description': 'user description'}\n",
      "{'id': 224499494550, 'name': 'user 50', 'screen_name': 'Twitter User', 'location': 'Internet', 'url': 'user URL', 'description': 'user description'}\n",
      "user 51\n",
      "user 52\n",
      "user 53\n",
      "user 51\n",
      "user 52\n",
      "user 53\n",
      "user 51\n",
      "user 52\n",
      "user 53\n",
      "user 51\n",
      "user 52\n",
      "user 53\n",
      "user 51\n",
      "user 52\n",
      "user 53\n",
      "user 51\n",
      "user 52\n",
      "user 53\n",
      "user 51\n",
      "user 52\n",
      "user 53\n",
      "user 58\n",
      "user 59\n",
      "user 51\n",
      "user 52\n",
      "user 53\n",
      "user 51\n",
      "user 52\n",
      "user 53\n",
      "user 58\n",
      "user 59\n"
     ]
    },
    {
     "ename": "KeyError",
     "evalue": "'user'",
     "output_type": "error",
     "traceback": [
      "\u001b[1;31m---------------------------------------------------------------------------\u001b[0m",
      "\u001b[1;31mKeyError\u001b[0m                                  Traceback (most recent call last)",
      "Cell \u001b[1;32mIn[16], line 2\u001b[0m\n\u001b[0;32m      1\u001b[0m \u001b[38;5;28;01mfor\u001b[39;00m doc \u001b[38;5;129;01min\u001b[39;00m tweets\u001b[38;5;241m.\u001b[39mfind():   \u001b[38;5;66;03m#start of the collection\u001b[39;00m\n\u001b[1;32m----> 2\u001b[0m     \u001b[38;5;28mprint\u001b[39m(doc[\u001b[38;5;124m\"\u001b[39m\u001b[38;5;124muser\u001b[39m\u001b[38;5;124m\"\u001b[39m])\n",
      "\u001b[1;31mKeyError\u001b[0m: 'user'"
     ]
    }
   ],
   "source": [
    "for doc in tweets.find():  \n",
    "    print(doc[\"user\"])"
   ]
  },
  {
   "cell_type": "code",
   "execution_count": 17,
   "id": "314e3429-f786-4dee-8199-72329d107e60",
   "metadata": {},
   "outputs": [
    {
     "name": "stdout",
     "output_type": "stream",
     "text": [
      "{'id': 224499494501, 'name': 'user 01', 'screen_name': 'Twitter User', 'location': 'Internet', 'url': 'user URL', 'description': 'user description'}\n",
      "{'id': 224499494502, 'name': 'user 02', 'screen_name': 'Twitter User', 'location': 'Internet', 'url': 'user URL', 'description': 'user description'}\n",
      "{'id': 224499494503, 'name': 'user 03', 'screen_name': 'Twitter User', 'location': 'Internet', 'url': 'user URL', 'description': 'user description'}\n",
      "{'id': 224499494504, 'name': 'user 04', 'screen_name': 'Twitter User', 'location': 'Internet', 'url': 'user URL', 'description': 'user description'}\n",
      "{'id': 224499494505, 'name': 'user 05', 'screen_name': 'Twitter User', 'location': 'Internet', 'url': 'user URL', 'description': 'user description'}\n",
      "{'id': 224499494506, 'name': 'user 06', 'screen_name': 'Twitter User', 'location': 'Internet', 'url': 'user URL', 'description': 'user description'}\n",
      "{'id': 224499494507, 'name': 'user 07', 'screen_name': 'Twitter User', 'location': 'Internet', 'url': 'user URL', 'description': 'user description'}\n",
      "{'id': 224499494508, 'name': 'user 08', 'screen_name': 'Twitter User', 'location': 'Internet', 'url': 'user URL', 'description': 'user description'}\n",
      "{'id': 224499494509, 'name': 'user 09', 'screen_name': 'Twitter User', 'location': 'Internet', 'url': 'user URL', 'description': 'user description'}\n",
      "{'id': 224499494510, 'name': 'user 10', 'screen_name': 'Twitter User', 'location': 'Internet', 'url': 'user URL', 'description': 'user description'}\n",
      "{'id': 224499494511, 'name': 'user 11', 'screen_name': 'Twitter User', 'location': 'Internet', 'url': 'user URL', 'description': 'user description'}\n",
      "{'id': 224499494512, 'name': 'user 12', 'screen_name': 'Twitter User', 'location': 'Internet', 'url': 'user URL', 'description': 'user description'}\n",
      "{'id': 224499494513, 'name': 'user 13', 'screen_name': 'Twitter User', 'location': 'Internet', 'url': 'user URL', 'description': 'user description'}\n",
      "{'id': 224499494514, 'name': 'user 14', 'screen_name': 'Twitter User', 'location': 'Internet', 'url': 'user URL', 'description': 'user description'}\n",
      "{'id': 224499494515, 'name': 'user 15', 'screen_name': 'Twitter User', 'location': 'Internet', 'url': 'user URL', 'description': 'user description'}\n",
      "{'id': 224499494516, 'name': 'user 16', 'screen_name': 'Twitter User', 'location': 'Internet', 'url': 'user URL', 'description': 'user description'}\n",
      "{'id': 224499494517, 'name': 'user 17', 'screen_name': 'Twitter User', 'location': 'Internet', 'url': 'user URL', 'description': 'user description'}\n",
      "{'id': 224499494518, 'name': 'user 18', 'screen_name': 'Twitter User', 'location': 'Internet', 'url': 'user URL', 'description': 'user description'}\n",
      "{'id': 224499494519, 'name': 'user 19', 'screen_name': 'Twitter User', 'location': 'Internet', 'url': 'user URL', 'description': 'user description'}\n",
      "{'id': 224499494520, 'name': 'user 20', 'screen_name': 'Twitter User', 'location': 'Internet', 'url': 'user URL', 'description': 'user description'}\n",
      "{'id': 224499494521, 'name': 'user 21', 'screen_name': 'Twitter User', 'location': 'Internet', 'url': 'user URL', 'description': 'user description'}\n",
      "{'id': 224499494522, 'name': 'user 22', 'screen_name': 'Twitter User', 'location': 'Internet', 'url': 'user URL', 'description': 'user description'}\n",
      "{'id': 224499494523, 'name': 'user 23', 'screen_name': 'Twitter User', 'location': 'Internet', 'url': 'user URL', 'description': 'user description'}\n",
      "{'id': 224499494524, 'name': 'user 24', 'screen_name': 'Twitter User', 'location': 'Internet', 'url': 'user URL', 'description': 'user description'}\n",
      "{'id': 224499494525, 'name': 'user 25', 'screen_name': 'Twitter User', 'location': 'Internet', 'url': 'user URL', 'description': 'user description'}\n",
      "{'id': 224499494526, 'name': 'user 26', 'screen_name': 'Twitter User', 'location': 'Internet', 'url': 'user URL', 'description': 'user description'}\n",
      "{'id': 224499494527, 'name': 'user 27', 'screen_name': 'Twitter User', 'location': 'Internet', 'url': 'user URL', 'description': 'user description'}\n",
      "{'id': 224499494528, 'name': 'user 28', 'screen_name': 'Twitter User', 'location': 'Internet', 'url': 'user URL', 'description': 'user description'}\n",
      "{'id': 224499494529, 'name': 'user 29', 'screen_name': 'Twitter User', 'location': 'Internet', 'url': 'user URL', 'description': 'user description'}\n",
      "{'id': 224499494530, 'name': 'user 30', 'screen_name': 'Twitter User', 'location': 'Internet', 'url': 'user URL', 'description': 'user description'}\n",
      "{'id': 224499494531, 'name': 'user 31', 'screen_name': 'Twitter User', 'location': 'Internet', 'url': 'user URL', 'description': 'user description'}\n",
      "{'id': 224499494532, 'name': 'user 32', 'screen_name': 'Twitter User', 'location': 'Internet', 'url': 'user URL', 'description': 'user description'}\n",
      "{'id': 224499494533, 'name': 'user 33', 'screen_name': 'Twitter User', 'location': 'Internet', 'url': 'user URL', 'description': 'user description'}\n",
      "{'id': 224499494534, 'name': 'user 34', 'screen_name': 'Twitter User', 'location': 'Internet', 'url': 'user URL', 'description': 'user description'}\n",
      "{'id': 224499494535, 'name': 'user 35', 'screen_name': 'Twitter User', 'location': 'Internet', 'url': 'user URL', 'description': 'user description'}\n",
      "{'id': 224499494536, 'name': 'user 36', 'screen_name': 'Twitter User', 'location': 'Internet', 'url': 'user URL', 'description': 'user description'}\n",
      "{'id': 224499494537, 'name': 'user 37', 'screen_name': 'Twitter User', 'location': 'Internet', 'url': 'user URL', 'description': 'user description'}\n",
      "{'id': 224499494538, 'name': 'user 38', 'screen_name': 'Twitter User', 'location': 'Internet', 'url': 'user URL', 'description': 'user description'}\n",
      "{'id': 224499494539, 'name': 'user 39', 'screen_name': 'Twitter User', 'location': 'Internet', 'url': 'user URL', 'description': 'user description'}\n",
      "{'id': 224499494540, 'name': 'user 40', 'screen_name': 'Twitter User', 'location': 'Internet', 'url': 'user URL', 'description': 'user description'}\n",
      "{'id': 224499494541, 'name': 'user 41', 'screen_name': 'Twitter User', 'location': 'Internet', 'url': 'user URL', 'description': 'user description'}\n",
      "{'id': 224499494542, 'name': 'user 42', 'screen_name': 'Twitter User', 'location': 'Internet', 'url': 'user URL', 'description': 'user description'}\n",
      "{'id': 224499494543, 'name': 'user 43', 'screen_name': 'Twitter User', 'location': 'Internet', 'url': 'user URL', 'description': 'user description'}\n",
      "{'id': 224499494544, 'name': 'user 44', 'screen_name': 'Twitter User', 'location': 'Internet', 'url': 'user URL', 'description': 'user description'}\n",
      "{'id': 224499494545, 'name': 'user 45', 'screen_name': 'Twitter User', 'location': 'Internet', 'url': 'user URL', 'description': 'user description'}\n",
      "{'id': 224499494546, 'name': 'user 46', 'screen_name': 'Twitter User', 'location': 'Internet', 'url': 'user URL', 'description': 'user description'}\n",
      "{'id': 224499494547, 'name': 'user 47', 'screen_name': 'Twitter User', 'location': 'Internet', 'url': 'user URL', 'description': 'user description'}\n",
      "{'id': 224499494548, 'name': 'user 48', 'screen_name': 'Twitter User', 'location': 'Internet', 'url': 'user URL', 'description': 'user description'}\n",
      "{'id': 224499494549, 'name': 'user 49', 'screen_name': 'Twitter User', 'location': 'Internet', 'url': 'user URL', 'description': 'user description'}\n",
      "{'id': 224499494550, 'name': 'user 50', 'screen_name': 'Twitter User', 'location': 'Internet', 'url': 'user URL', 'description': 'user description'}\n",
      "user 51\n",
      "user 52\n",
      "user 53\n",
      "user 51\n",
      "user 52\n",
      "user 53\n",
      "user 51\n",
      "user 52\n",
      "user 53\n",
      "user 51\n",
      "user 52\n",
      "user 53\n",
      "user 51\n",
      "user 52\n",
      "user 53\n",
      "user 51\n",
      "user 52\n",
      "user 53\n",
      "user 51\n",
      "user 52\n",
      "user 53\n",
      "user 58\n",
      "user 59\n",
      "user 51\n",
      "user 52\n",
      "user 53\n",
      "user 51\n",
      "user 52\n",
      "user 53\n",
      "user 58\n",
      "user 59\n",
      "user 51\n",
      "user 52\n",
      "user 53\n",
      "user 51\n",
      "user 52\n",
      "user 53\n",
      "user 58\n",
      "user 59\n",
      "user 51\n",
      "user 52\n",
      "user 53\n",
      "user 51\n",
      "user 52\n",
      "user 53\n",
      "user 58\n",
      "user 59\n",
      "user 51\n",
      "user 52\n",
      "user 53\n",
      "user 51\n",
      "user 52\n",
      "user 53\n",
      "user 58\n",
      "user 59\n",
      "user 51\n",
      "user 52\n",
      "user 53\n",
      "user 51\n",
      "user 52\n",
      "user 53\n",
      "user 58\n",
      "user 59\n",
      "user 51\n",
      "user 52\n",
      "user 53\n",
      "user 51\n",
      "user 52\n",
      "user 53\n",
      "user 58\n",
      "user 59\n",
      "user 51\n",
      "user 52\n",
      "user 53\n",
      "user 51\n",
      "user 52\n",
      "user 53\n",
      "user 58\n",
      "user 59\n",
      "user 51\n",
      "user 52\n",
      "user 53\n",
      "user 51\n",
      "user 52\n",
      "user 53\n",
      "user 58\n",
      "user 59\n",
      "user 51\n",
      "user 52\n",
      "user 53\n",
      "user 51\n",
      "user 52\n",
      "user 53\n",
      "user 58\n",
      "user 59\n",
      "user 51\n",
      "user 52\n",
      "user 53\n",
      "user 51\n",
      "user 52\n",
      "user 53\n",
      "user 58\n",
      "user 59\n",
      "user 51\n",
      "user 52\n",
      "user 53\n",
      "user 51\n",
      "user 52\n",
      "user 53\n",
      "user 58\n",
      "user 59\n",
      "user 51\n",
      "user 52\n",
      "user 53\n",
      "user 51\n",
      "user 52\n",
      "user 53\n",
      "user 58\n",
      "user 59\n",
      "user 51\n",
      "user 52\n",
      "user 53\n",
      "user 51\n",
      "user 52\n",
      "user 53\n",
      "user 58\n",
      "user 59\n"
     ]
    }
   ],
   "source": [
    "for doc in tweets.find():     #start of the collection\n",
    "    if \"user\" in doc.keys():    #check if the user field exists keys = fields\n",
    "        print(doc[\"user\"])"
   ]
  },
  {
   "cell_type": "code",
   "execution_count": 48,
   "id": "30e50b06-34d4-4ac1-848c-7e4ad080f3f9",
   "metadata": {},
   "outputs": [],
   "source": [
    "#create a new database with name \"new_db\", collection with \"new_col\", and docs with python\n",
    "new_db = connection[\"new_db\"]\n",
    "new_col = new_db[\"new_col\"] "
   ]
  },
  {
   "cell_type": "code",
   "execution_count": 49,
   "id": "586df8ef-8cda-4a63-bf8e-620c06cba681",
   "metadata": {},
   "outputs": [],
   "source": [
    "#insert document into new collection\n",
    "x = new_col.insert_one({\"user\" : \"user 01\"})"
   ]
  },
  {
   "cell_type": "code",
   "execution_count": 50,
   "id": "26509b36-40e9-4f11-8360-643245301435",
   "metadata": {},
   "outputs": [
    {
     "data": {
      "text/plain": [
       "['new_col']"
      ]
     },
     "execution_count": 50,
     "metadata": {},
     "output_type": "execute_result"
    }
   ],
   "source": [
    "new_db.list_collection_names()"
   ]
  },
  {
   "cell_type": "code",
   "execution_count": 53,
   "id": "7e19ac92-3f10-4e35-a695-f150e8560918",
   "metadata": {},
   "outputs": [
    {
     "data": {
      "text/plain": [
       "['Downloads', 'admin', 'config', 'local', 'mydatabase', 'new_db', 'week3']"
      ]
     },
     "execution_count": 53,
     "metadata": {},
     "output_type": "execute_result"
    }
   ],
   "source": [
    "connection.list_database_names()"
   ]
  },
  {
   "cell_type": "code",
   "execution_count": null,
   "id": "471d4dec-6f60-470d-9877-07d8ccdb4bc5",
   "metadata": {},
   "outputs": [],
   "source": []
  },
  {
   "cell_type": "code",
   "execution_count": 54,
   "id": "9e2cc4ec-1dd4-4b38-83d7-9eda16b1b835",
   "metadata": {},
   "outputs": [],
   "source": [
    "#connect to mongoDB with the ip address ‘localhost:27017’\n",
    "connection = pymongo.MongoClient(\"localhost:27017\") ##connect address"
   ]
  },
  {
   "cell_type": "code",
   "execution_count": 55,
   "id": "16905e9b-397f-4988-a303-c02844638d96",
   "metadata": {},
   "outputs": [],
   "source": [
    "#create a new database with name ‘mydatabase’; \n",
    "mydatabase = connection[\"mydatabase\"]"
   ]
  },
  {
   "cell_type": "code",
   "execution_count": 56,
   "id": "068e7af0-a79d-45b9-9722-5043c12e298d",
   "metadata": {},
   "outputs": [],
   "source": [
    "# in the new database, create a new collection with name ‘mycollections\n",
    "mycollections = mydatabase[\"mydatabase\"]"
   ]
  },
  {
   "cell_type": "code",
   "execution_count": 57,
   "id": "3af84010-c07f-4357-acbb-a7f07a0a8305",
   "metadata": {},
   "outputs": [],
   "source": [
    "# in the new collection, insert two records:\n",
    "#{\"name\": \"Candy\", \"address\": \"Northway 75\"}\n",
    "#{\"name\": \"Amy\", \"address\": \"Apple st 652\"}\n",
    "\n",
    "x1 = mycollections.insert_one({\"name\": \"Candy\", \"address\": \"Northway 75\"})\n",
    "x2 = mycollections.insert_one({\"name\": \"Amy\", \"address\": \"Apple st 652\"})\n"
   ]
  },
  {
   "cell_type": "code",
   "execution_count": 35,
   "id": "889d0069-2fcc-43e3-a95a-2ee1db735fd9",
   "metadata": {},
   "outputs": [
    {
     "ename": "TypeError",
     "evalue": "documents must be a non-empty list",
     "output_type": "error",
     "traceback": [
      "\u001b[1;31m---------------------------------------------------------------------------\u001b[0m",
      "\u001b[1;31mTypeError\u001b[0m                                 Traceback (most recent call last)",
      "Cell \u001b[1;32mIn[35], line 2\u001b[0m\n\u001b[0;32m      1\u001b[0m \u001b[38;5;66;03m#using insert many\u001b[39;00m\n\u001b[1;32m----> 2\u001b[0m x3 \u001b[38;5;241m=\u001b[39m mycollections\u001b[38;5;241m.\u001b[39minsert_many({\u001b[38;5;124m\"\u001b[39m\u001b[38;5;124mname\u001b[39m\u001b[38;5;124m\"\u001b[39m: \u001b[38;5;124m\"\u001b[39m\u001b[38;5;124mCandy\u001b[39m\u001b[38;5;124m\"\u001b[39m, \u001b[38;5;124m\"\u001b[39m\u001b[38;5;124maddress\u001b[39m\u001b[38;5;124m\"\u001b[39m: \u001b[38;5;124m\"\u001b[39m\u001b[38;5;124mNorthway 75\u001b[39m\u001b[38;5;124m\"\u001b[39m},{\u001b[38;5;124m\"\u001b[39m\u001b[38;5;124mname\u001b[39m\u001b[38;5;124m\"\u001b[39m: \u001b[38;5;124m\"\u001b[39m\u001b[38;5;124mAmy\u001b[39m\u001b[38;5;124m\"\u001b[39m, \u001b[38;5;124m\"\u001b[39m\u001b[38;5;124maddress\u001b[39m\u001b[38;5;124m\"\u001b[39m: \u001b[38;5;124m\"\u001b[39m\u001b[38;5;124mApple st 652\u001b[39m\u001b[38;5;124m\"\u001b[39m})\n",
      "File \u001b[1;32m~\\AppData\\Local\\anaconda3\\Lib\\site-packages\\pymongo\\_csot.py:107\u001b[0m, in \u001b[0;36mapply.<locals>.csot_wrapper\u001b[1;34m(self, *args, **kwargs)\u001b[0m\n\u001b[0;32m    105\u001b[0m         \u001b[38;5;28;01mwith\u001b[39;00m _TimeoutContext(timeout):\n\u001b[0;32m    106\u001b[0m             \u001b[38;5;28;01mreturn\u001b[39;00m func(\u001b[38;5;28mself\u001b[39m, \u001b[38;5;241m*\u001b[39margs, \u001b[38;5;241m*\u001b[39m\u001b[38;5;241m*\u001b[39mkwargs)\n\u001b[1;32m--> 107\u001b[0m \u001b[38;5;28;01mreturn\u001b[39;00m func(\u001b[38;5;28mself\u001b[39m, \u001b[38;5;241m*\u001b[39margs, \u001b[38;5;241m*\u001b[39m\u001b[38;5;241m*\u001b[39mkwargs)\n",
      "File \u001b[1;32m~\\AppData\\Local\\anaconda3\\Lib\\site-packages\\pymongo\\collection.py:739\u001b[0m, in \u001b[0;36mCollection.insert_many\u001b[1;34m(self, documents, ordered, bypass_document_validation, session, comment)\u001b[0m\n\u001b[0;32m    690\u001b[0m \u001b[38;5;250m\u001b[39m\u001b[38;5;124;03m\"\"\"Insert an iterable of documents.\u001b[39;00m\n\u001b[0;32m    691\u001b[0m \n\u001b[0;32m    692\u001b[0m \u001b[38;5;124;03m  >>> db.test.count_documents({})\u001b[39;00m\n\u001b[1;32m   (...)\u001b[0m\n\u001b[0;32m    732\u001b[0m \u001b[38;5;124;03m.. versionadded:: 3.0\u001b[39;00m\n\u001b[0;32m    733\u001b[0m \u001b[38;5;124;03m\"\"\"\u001b[39;00m\n\u001b[0;32m    734\u001b[0m \u001b[38;5;28;01mif\u001b[39;00m (\n\u001b[0;32m    735\u001b[0m     \u001b[38;5;129;01mnot\u001b[39;00m \u001b[38;5;28misinstance\u001b[39m(documents, abc\u001b[38;5;241m.\u001b[39mIterable)\n\u001b[0;32m    736\u001b[0m     \u001b[38;5;129;01mor\u001b[39;00m \u001b[38;5;28misinstance\u001b[39m(documents, abc\u001b[38;5;241m.\u001b[39mMapping)\n\u001b[0;32m    737\u001b[0m     \u001b[38;5;129;01mor\u001b[39;00m \u001b[38;5;129;01mnot\u001b[39;00m documents\n\u001b[0;32m    738\u001b[0m ):\n\u001b[1;32m--> 739\u001b[0m     \u001b[38;5;28;01mraise\u001b[39;00m \u001b[38;5;167;01mTypeError\u001b[39;00m(\u001b[38;5;124m\"\u001b[39m\u001b[38;5;124mdocuments must be a non-empty list\u001b[39m\u001b[38;5;124m\"\u001b[39m)\n\u001b[0;32m    740\u001b[0m inserted_ids: \u001b[38;5;28mlist\u001b[39m[ObjectId] \u001b[38;5;241m=\u001b[39m []\n\u001b[0;32m    742\u001b[0m \u001b[38;5;28;01mdef\u001b[39;00m \u001b[38;5;21mgen\u001b[39m() \u001b[38;5;241m-\u001b[39m\u001b[38;5;241m>\u001b[39m Iterator[\u001b[38;5;28mtuple\u001b[39m[\u001b[38;5;28mint\u001b[39m, Mapping[\u001b[38;5;28mstr\u001b[39m, Any]]]:\n",
      "\u001b[1;31mTypeError\u001b[0m: documents must be a non-empty list"
     ]
    }
   ],
   "source": [
    "#using insert many\n",
    "x3 = mycollections.insert_many({\"name\": \"Candy\", \"address\": \"Northway 75\"},{\"name\": \"Amy\", \"address\": \"Apple st 652\"})"
   ]
  },
  {
   "cell_type": "code",
   "execution_count": 44,
   "id": "5bcc0697-1f1c-4fe8-96b8-26d3a396dbda",
   "metadata": {},
   "outputs": [
    {
     "data": {
      "text/plain": [
       "['mydatabase']"
      ]
     },
     "execution_count": 44,
     "metadata": {},
     "output_type": "execute_result"
    }
   ],
   "source": [
    "mydatabase.list_collection_names()"
   ]
  },
  {
   "cell_type": "code",
   "execution_count": 45,
   "id": "802116e3-1620-408e-96cb-65e85fa0bae3",
   "metadata": {},
   "outputs": [],
   "source": [
    "ndb = db['mydatabase']"
   ]
  },
  {
   "cell_type": "code",
   "execution_count": 47,
   "id": "53a55ce5-a690-4416-8f91-e4a77bb65f09",
   "metadata": {},
   "outputs": [],
   "source": [
    "# output/display names of all databases in mongoDB;\n",
    "for i in ndb.find():   #start of the collection\n",
    "    print(i)"
   ]
  },
  {
   "cell_type": "code",
   "execution_count": null,
   "id": "85e28bb2-bf85-4979-bebd-5014b7c36d4d",
   "metadata": {},
   "outputs": [],
   "source": [
    "# output/display names of all collections in the ‘mydatabase’ database.\n",
    "for doc in tweets.find({\"user.name\":{\"$gt\":\"user 12\"}}):\n",
    "    print(doc[\"user\"])"
   ]
  },
  {
   "cell_type": "code",
   "execution_count": null,
   "id": "c3671b3e-8b49-49a9-9e13-749caea45a6d",
   "metadata": {},
   "outputs": [],
   "source": [
    "# Write a program in Python, to read the Tweet Dataset from MongoDB. For each tweet, output/display its ‘text’ field in Python console\n"
   ]
  },
  {
   "cell_type": "code",
   "execution_count": null,
   "id": "52b5b9c0-eb00-4051-86c2-8d9e22e58f17",
   "metadata": {},
   "outputs": [],
   "source": [
    "#  Write a program in Python, to read the Tweet Dataset from MongoDB. Find the tweets where the user id is smaller than 224499494522, output/display \n",
    "#‘user name’ field of these tweets in Python console."
   ]
  },
  {
   "cell_type": "code",
   "execution_count": null,
   "id": "f989c0c9-16c6-414f-ad32-e1b075c66d12",
   "metadata": {},
   "outputs": [],
   "source": [
    "# Write a program in Python to complete Question 1 & 2 (user name is ‘user 23’)"
   ]
  }
 ],
 "metadata": {
  "kernelspec": {
   "display_name": "Python 3 (ipykernel)",
   "language": "python",
   "name": "python3"
  },
  "language_info": {
   "codemirror_mode": {
    "name": "ipython",
    "version": 3
   },
   "file_extension": ".py",
   "mimetype": "text/x-python",
   "name": "python",
   "nbconvert_exporter": "python",
   "pygments_lexer": "ipython3",
   "version": "3.11.7"
  }
 },
 "nbformat": 4,
 "nbformat_minor": 5
}

{
 "cells": [
  {
   "cell_type": "code",
   "execution_count": 1,
   "id": "34ca9b75-7b3a-4cde-8bfc-7a34096240ef",
   "metadata": {},
   "outputs": [
    {
     "name": "stderr",
     "output_type": "stream",
     "text": [
      "[nltk_data] Downloading package stopwords to\n",
      "[nltk_data]     C:\\Users\\48345652\\AppData\\Roaming\\nltk_data...\n",
      "[nltk_data]   Package stopwords is already up-to-date!\n",
      "[nltk_data] Downloading package punkt to\n",
      "[nltk_data]     C:\\Users\\48345652\\AppData\\Roaming\\nltk_data...\n",
      "[nltk_data]   Package punkt is already up-to-date!\n",
      "[nltk_data] Downloading package averaged_perceptron_tagger to\n",
      "[nltk_data]     C:\\Users\\48345652\\AppData\\Roaming\\nltk_data...\n",
      "[nltk_data]   Package averaged_perceptron_tagger is already up-to-\n",
      "[nltk_data]       date!\n"
     ]
    }
   ],
   "source": [
    "import nltk\n",
    "nltk.download('stopwords')\n",
    "nltk.download('punkt')\n",
    "nltk.download('averaged_perceptron_tagger')\n",
    "from nltk.corpus import stopwords"
   ]
  },
  {
   "cell_type": "markdown",
   "id": "d1e6a919-17d6-45fc-8998-cc288b8c4107",
   "metadata": {},
   "source": [
    "### step1: connect to mongodb and extract the text"
   ]
  },
  {
   "cell_type": "code",
   "execution_count": 2,
   "id": "901ec2b7-85bf-4eb8-a2a8-0545863379d6",
   "metadata": {},
   "outputs": [],
   "source": [
    "import pymongo"
   ]
  },
  {
   "cell_type": "code",
   "execution_count": 3,
   "id": "62f7f004-ceab-4eaf-a09b-a96af375a859",
   "metadata": {},
   "outputs": [],
   "source": [
    "#connect to the database\n",
    "connection = pymongo.MongoClient(\"localhost:27017\")\n",
    "week3 = connection['Downloads']\n",
    "col = week3['Tweets']"
   ]
  },
  {
   "cell_type": "code",
   "execution_count": 4,
   "id": "65d8fc42-f997-4b5c-925d-61c2d2f30986",
   "metadata": {},
   "outputs": [
    {
     "data": {
      "text/plain": [
       "['Tweets']"
      ]
     },
     "execution_count": 4,
     "metadata": {},
     "output_type": "execute_result"
    }
   ],
   "source": [
    "week3.list_collection_names()"
   ]
  },
  {
   "cell_type": "code",
   "execution_count": 5,
   "id": "471d56e0-46d7-4b37-aff3-dd001c180d13",
   "metadata": {},
   "outputs": [
    {
     "data": {
      "text/plain": [
       "['Downloads', 'admin', 'config', 'local', 'mydatabase', 'new_db', 'week3']"
      ]
     },
     "execution_count": 5,
     "metadata": {},
     "output_type": "execute_result"
    }
   ],
   "source": [
    "connection.list_database_names()"
   ]
  },
  {
   "cell_type": "code",
   "execution_count": 6,
   "id": "7011330a-e8d9-46b5-b51b-99a2de12be4c",
   "metadata": {},
   "outputs": [
    {
     "name": "stdout",
     "output_type": "stream",
     "text": [
      "{'_id': ObjectId('65deaa68cadd406b2c8e6f10'), 'created_at': 'Thu Apr 06 15:24:15 +0000 2017', 'id_str': '1850006245121695744', 'text': \"Train people well enough so they can leave, treat them well enough so they don't want to. —@richardbranson\", 'user': {'id': 224499494501, 'name': 'user 01', 'screen_name': 'Twitter User', 'location': 'Internet', 'url': 'user URL', 'description': 'user description'}, 'place': {}, 'entities': {'hashtags': [], 'urls': [{'url': 'twt url sample', 'unwound': {'url': 'url sample', 'title': 'web page title'}}], 'user_mentions': []}}\n",
      "{'_id': ObjectId('65deaa68cadd406b2c8e6f11'), 'created_at': 'Thu Apr 06 15:24:16 +0000 2017', 'id_str': '8150006245121695744', 'text': 'On Friday evening we welcomed our new MRes and PhD Students on a walking tour of the City. Some of them are International Students and enjoyed seeing the sights of Sydney!  #cityofsydney #macquarieuniexperience @Macquarie_Uni @mqintl @MQSciEng', 'user': {'id': 224499494502, 'name': 'user 02', 'screen_name': 'Twitter User', 'location': 'Internet', 'url': 'user URL', 'description': 'user description'}, 'place': {}, 'entities': {'hashtags': [], 'urls': [{'url': 'twt url sample', 'unwound': {'url': 'url sample', 'title': 'web page title'}}], 'user_mentions': []}}\n",
      "{'_id': ObjectId('65deaa68cadd406b2c8e6f12'), 'created_at': 'Thu Apr 06 15:24:17 +0000 2017', 'id_str': '8510006245121695744', 'text': 'Excited to publish the BPM Newsletter 1-2018, my first one! Download at https://tinyurl.com/y7ync633  @BPMConf #BPM2018', 'user': {'id': 224499494503, 'name': 'user 03', 'screen_name': 'Twitter User', 'location': 'Internet', 'url': 'user URL', 'description': 'user description'}, 'place': {}, 'entities': {'hashtags': [], 'urls': [{'url': 'twt url sample', 'unwound': {'url': 'url sample', 'title': 'web page title'}}], 'user_mentions': []}}\n",
      "{'_id': ObjectId('65deaa68cadd406b2c8e6f13'), 'created_at': 'Thu Apr 06 15:24:18 +0000 2017', 'id_str': '8501006245121695744', 'text': 'Our social networks  amplify negative more than the positive. Great article  https://washingtonmonthly.com/magazine/january-february-march-2018/how-to-fix-facebook-before-it-fixes-us/ … cc @webfoundation', 'user': {'id': 224499494504, 'name': 'user 04', 'screen_name': 'Twitter User', 'location': 'Internet', 'url': 'user URL', 'description': 'user description'}, 'place': {}, 'entities': {'hashtags': [], 'urls': [{'url': 'twt url sample', 'unwound': {'url': 'url sample', 'title': 'web page title'}}], 'user_mentions': []}}\n",
      "{'_id': ObjectId('65deaa68cadd406b2c8e6f14'), 'created_at': 'Thu Apr 06 15:24:19 +0000 2017', 'id_str': '8500106245121695744', 'text': 'Welcome to the official Department of Computing @computing_mq Twitter Account.', 'user': {'id': 224499494505, 'name': 'user 05', 'screen_name': 'Twitter User', 'location': 'Internet', 'url': 'user URL', 'description': 'user description'}, 'place': {}, 'entities': {'hashtags': [], 'urls': [{'url': 'twt url sample', 'unwound': {'url': 'url sample', 'title': 'web page title'}}], 'user_mentions': []}}\n",
      "{'_id': ObjectId('65deaa68cadd406b2c8e6f15'), 'created_at': 'Thu Apr 06 15:24:20 +0000 2017', 'id_str': '8500016245121695744', 'text': \"Watch this incredible @TEDTalks with IBM scientist @BmiBruno titled 'How our brains will keep up with #AI' - and stay tuned for the fun ending - Hint: look at his shoes -  #TEDatIBM\", 'user': {'id': 224499494506, 'name': 'user 06', 'screen_name': 'Twitter User', 'location': 'Internet', 'url': 'user URL', 'description': 'user description'}, 'place': {}, 'entities': {'hashtags': [], 'urls': [{'url': 'twt url sample', 'unwound': {'url': 'url sample', 'title': 'web page title'}}], 'user_mentions': []}}\n",
      "{'_id': ObjectId('65deaa68cadd406b2c8e6f16'), 'created_at': 'Thu Apr 06 15:24:21 +0000 2017', 'id_str': '8500061245121695744', 'text': 'A man with Down Syndrome, with help from his Dad, is using his million-dollar company to show the world what people with learning disabilities are capable of. Amazing.', 'user': {'id': 224499494507, 'name': 'user 07', 'screen_name': 'Twitter User', 'location': 'Internet', 'url': 'user URL', 'description': 'user description'}, 'place': {}, 'entities': {'hashtags': [], 'urls': [{'url': 'twt url sample', 'unwound': {'url': 'url sample', 'title': 'web page title'}}], 'user_mentions': []}}\n",
      "{'_id': ObjectId('65deaa68cadd406b2c8e6f17'), 'created_at': 'Thu Apr 06 15:24:22 +0000 2017', 'id_str': '8500062145121695744', 'text': \"Be a good person, but don't waste your time trying to prove it\", 'user': {'id': 224499494508, 'name': 'user 08', 'screen_name': 'Twitter User', 'location': 'Internet', 'url': 'user URL', 'description': 'user description'}, 'place': {}, 'entities': {'hashtags': [], 'urls': [{'url': 'twt url sample', 'unwound': {'url': 'url sample', 'title': 'web page title'}}], 'user_mentions': []}}\n",
      "{'_id': ObjectId('65deaa68cadd406b2c8e6f18'), 'created_at': 'Thu Apr 06 15:24:23 +0000 2017', 'id_str': '8500062415121695744', 'text': 'Have you started writing your #BPM2018 paper? Only one month left till the abstract submission: http://bpm2018.web.cse.unsw.edu.au/Call_for_Papers.html ', 'user': {'id': 224499494509, 'name': 'user 09', 'screen_name': 'Twitter User', 'location': 'Internet', 'url': 'user URL', 'description': 'user description'}, 'place': {}, 'entities': {'hashtags': [], 'urls': [{'url': 'twt url sample', 'unwound': {'url': 'url sample', 'title': 'web page title'}}], 'user_mentions': []}}\n",
      "{'_id': ObjectId('65deaa68cadd406b2c8e6f19'), 'created_at': 'Thu Apr 06 15:24:24 +0000 2017', 'id_str': '8500062451121695744', 'text': \"The final http://deeplearning.ai  course on Sequence Models is now up on @Coursera! Projects you'll build include Speech trigger word detection, Translation, Emojification, Text generation, ... w/RNN, LSTM, GRU, Word embeddings & Attention. Hope you have fun with it!\", 'user': {'id': 224499494510, 'name': 'user 10', 'screen_name': 'Twitter User', 'location': 'Internet', 'url': 'user URL', 'description': 'user description'}, 'place': {}, 'entities': {'hashtags': [], 'urls': [{'url': 'twt url sample', 'unwound': {'url': 'url sample', 'title': 'web page title'}}], 'user_mentions': []}}\n",
      "{'_id': ObjectId('65deaa68cadd406b2c8e6f1a'), 'created_at': 'Thu Apr 06 15:24:25 +0000 2017', 'id_str': '8500062451121695744', 'text': 'Many people think that patience is a sign of weakness. I think this is a mistake. It is anger that is a sign of weakness, whereas patience is a sign of strength.', 'user': {'id': 224499494511, 'name': 'user 11', 'screen_name': 'Twitter User', 'location': 'Internet', 'url': 'user URL', 'description': 'user description'}, 'place': {}, 'entities': {'hashtags': [], 'urls': [{'url': 'twt url sample', 'unwound': {'url': 'url sample', 'title': 'web page title'}}], 'user_mentions': []}}\n",
      "{'_id': ObjectId('65deaa68cadd406b2c8e6f1b'), 'created_at': 'Thu Apr 06 15:24:26 +0000 2017', 'id_str': '8500062451211695744', 'text': '15-year olds Bailey Holt and Preston Cope, the two teens killed in the #KentuckySchoolShooting. It was the 11th school shooting of 2018. There are 7 days left in January.', 'user': {'id': 224499494512, 'name': 'user 12', 'screen_name': 'Twitter User', 'location': 'Internet', 'url': 'user URL', 'description': 'user description'}, 'place': {}, 'entities': {'hashtags': [], 'urls': [{'url': 'twt url sample', 'unwound': {'url': 'url sample', 'title': 'web page title'}}], 'user_mentions': []}}\n",
      "{'_id': ObjectId('65deaa68cadd406b2c8e6f1c'), 'created_at': 'Thu Apr 06 15:24:27 +0000 2017', 'id_str': '8500062451211695744', 'text': 'Her name is Avgi, and the last time anyone saw her face was in Greece nearly 9,000 years ago', 'user': {'id': 224499494513, 'name': 'user 13', 'screen_name': 'Twitter User', 'location': 'Internet', 'url': 'user URL', 'description': 'user description'}, 'place': {}, 'entities': {'hashtags': [], 'urls': [{'url': 'twt url sample', 'unwound': {'url': 'url sample', 'title': 'web page title'}}], 'user_mentions': []}}\n",
      "{'_id': ObjectId('65deaa68cadd406b2c8e6f1d'), 'created_at': 'Thu Apr 06 15:24:28 +0000 2017', 'id_str': '8500062451216195744', 'text': 'What’s past is past, nothing can change that. But the future can be different if we choose to make it so. We have to cultivate a vision of a happier, more peaceful future and make the effort now to bring it about. This is no time for complacency, hope lies in the action we take.', 'user': {'id': 224499494514, 'name': 'user 14', 'screen_name': 'Twitter User', 'location': 'Internet', 'url': 'user URL', 'description': 'user description'}, 'place': {}, 'entities': {'hashtags': [], 'urls': [{'url': 'twt url sample', 'unwound': {'url': 'url sample', 'title': 'web page title'}}], 'user_mentions': []}}\n",
      "{'_id': ObjectId('65deaa68cadd406b2c8e6f1e'), 'created_at': 'Thu Apr 06 15:24:29 +0000 2017', 'id_str': '8500062451216915744', 'text': 'Business Process Analytics deals with examining large and varied process related data (i.e. big process data) to uncover hidden patterns, unknown correlations, market trends, customer preferences and other useful insights. ', 'user': {'id': 224499494515, 'name': 'user 15', 'screen_name': 'Twitter User', 'location': 'Internet', 'url': 'user URL', 'description': 'user description'}, 'place': {}, 'entities': {'hashtags': [], 'urls': [{'url': 'twt url sample', 'unwound': {'url': 'url sample', 'title': 'web page title'}}], 'user_mentions': []}}\n",
      "{'_id': ObjectId('65deaa68cadd406b2c8e6f1f'), 'created_at': 'Thu Apr 06 15:24:30 +0000 2017', 'id_str': '8500062451216951744', 'text': 'Modern education pays little attention to inner values and yet our basic human nature is compassionate. We need to incorporate compassion and warm-heartedness into the modern education system to make it more holistic.', 'user': {'id': 224499494516, 'name': 'user 16', 'screen_name': 'Twitter User', 'location': 'Internet', 'url': 'user URL', 'description': 'user description'}, 'place': {}, 'entities': {'hashtags': [], 'urls': [{'url': 'twt url sample', 'unwound': {'url': 'url sample', 'title': 'web page title'}}], 'user_mentions': []}}\n",
      "{'_id': ObjectId('65deaa68cadd406b2c8e6f20'), 'created_at': 'Thu Apr 06 15:24:31 +0000 2017', 'id_str': '8500062451216957144', 'text': 'Happiness shouldn’t be a goal, it should be a habit https://virg.in/J3r ', 'user': {'id': 224499494517, 'name': 'user 17', 'screen_name': 'Twitter User', 'location': 'Internet', 'url': 'user URL', 'description': 'user description'}, 'place': {}, 'entities': {'hashtags': [], 'urls': [{'url': 'twt url sample', 'unwound': {'url': 'url sample', 'title': 'web page title'}}], 'user_mentions': []}}\n",
      "{'_id': ObjectId('65deaa68cadd406b2c8e6f21'), 'created_at': 'Thu Apr 06 15:24:32 +0000 2017', 'id_str': '8500062451216957414', 'text': 'The way you perceive and react to the world is a choice. ~David Wallace Choose wisely! 2018 is your chance!', 'user': {'id': 224499494518, 'name': 'user 18', 'screen_name': 'Twitter User', 'location': 'Internet', 'url': 'user URL', 'description': 'user description'}, 'place': {}, 'entities': {'hashtags': [], 'urls': [{'url': 'twt url sample', 'unwound': {'url': 'url sample', 'title': 'web page title'}}], 'user_mentions': []}}\n",
      "{'_id': ObjectId('65deaa68cadd406b2c8e6f22'), 'created_at': 'Thu Apr 06 15:24:33 +0000 2017', 'id_str': '8500062451216957441', 'text': 'Relive the breathtaking 2017 #SydNYE fireworks display - see the highlights of our biggest fireworks display ever', 'user': {'id': 224499494519, 'name': 'user 19', 'screen_name': 'Twitter User', 'location': 'Internet', 'url': 'user URL', 'description': 'user description'}, 'place': {}, 'entities': {'hashtags': [], 'urls': [{'url': 'twt url sample', 'unwound': {'url': 'url sample', 'title': 'web page title'}}], 'user_mentions': []}}\n",
      "{'_id': ObjectId('65deaa68cadd406b2c8e6f23'), 'created_at': 'Thu Apr 06 15:24:34 +0000 2017', 'id_str': '2850006245121695744', 'text': 'The Sydney fireworks always looks amazing, on my bucket list to be there for New Years:) Wishing everyone happiness and good health in 2018!', 'user': {'id': 224499494520, 'name': 'user 20', 'screen_name': 'Twitter User', 'location': 'Internet', 'url': 'user URL', 'description': 'user description'}, 'place': {}, 'entities': {'hashtags': [], 'urls': [{'url': 'twt url sample', 'unwound': {'url': 'url sample', 'title': 'web page title'}}], 'user_mentions': []}}\n",
      "{'_id': ObjectId('65deaa68cadd406b2c8e6f26'), 'created_at': 'Thu Apr 06 15:24:37 +0000 2017', 'id_str': '8500206245121695744', 'text': \"Want your first AI job? Come intern with me! We're running an internship program that will help people who've completed MOOCs start employment in AI. http://landing.ai/ai-internship \", 'user': {'id': 224499494523, 'name': 'user 23', 'screen_name': 'Twitter User', 'location': 'Internet', 'url': 'user URL', 'description': 'user description'}, 'place': {}, 'entities': {'hashtags': [], 'urls': [{'url': 'twt url sample', 'unwound': {'url': 'url sample', 'title': 'web page title'}}], 'user_mentions': []}}\n",
      "{'_id': ObjectId('65deaa68cadd406b2c8e6f27'), 'created_at': 'Thu Apr 06 15:24:38 +0000 2017', 'id_str': '8500026245121695744', 'text': \"No one in the brief history of computing has ever written a piece of perfect software. It's unlikely that you'll be the first. - Andy Hunt\", 'user': {'id': 224499494524, 'name': 'user 24', 'screen_name': 'Twitter User', 'location': 'Internet', 'url': 'user URL', 'description': 'user description'}, 'place': {}, 'entities': {'hashtags': [], 'urls': [{'url': 'twt url sample', 'unwound': {'url': 'url sample', 'title': 'web page title'}}], 'user_mentions': []}}\n",
      "{'_id': ObjectId('65deaa68cadd406b2c8e6f28'), 'created_at': 'Thu Apr 06 15:24:39 +0000 2017', 'id_str': '8500062245121695744', 'text': 'If you’re looking for a great read to enjoy over the holidays, you can’t go wrong with one of these books.', 'user': {'id': 224499494525, 'name': 'user 25', 'screen_name': 'Twitter User', 'location': 'Internet', 'url': 'user URL', 'description': 'user description'}, 'place': {}, 'entities': {'hashtags': [], 'urls': [{'url': 'twt url sample', 'unwound': {'url': 'url sample', 'title': 'web page title'}}], 'user_mentions': []}}\n",
      "{'_id': ObjectId('65deaa68cadd406b2c8e6f29'), 'created_at': 'Thu Apr 06 15:24:40 +0000 2017', 'id_str': '8500062425121695744', 'text': 'This kind photographer turned kids with illnesses and disabilities into superheroes #SundayMorning', 'user': {'id': 224499494526, 'name': 'user 26', 'screen_name': 'Twitter User', 'location': 'Internet', 'url': 'user URL', 'description': 'user description'}, 'place': {}, 'entities': {'hashtags': [], 'urls': [{'url': 'twt url sample', 'unwound': {'url': 'url sample', 'title': 'web page title'}}], 'user_mentions': []}}\n",
      "{'_id': ObjectId('65deaa68cadd406b2c8e6f2a'), 'created_at': 'Thu Apr 06 15:24:41 +0000 2017', 'id_str': '8500062451221695744', 'text': \"Thinking a lot about diversity in AI. Here's my current Stanford group: https://stanfordmlgroup.github.io/#people  We striving to do better and increase diversity. AI needs to welcome everyone!\", 'user': {'id': 224499494527, 'name': 'user 27', 'screen_name': 'Twitter User', 'location': 'Internet', 'url': 'user URL', 'description': 'user description'}, 'place': {}, 'entities': {'hashtags': [], 'urls': [{'url': 'twt url sample', 'unwound': {'url': 'url sample', 'title': 'web page title'}}], 'user_mentions': []}}\n",
      "{'_id': ObjectId('65deaa68cadd406b2c8e6f2b'), 'created_at': 'Thu Apr 06 15:24:42 +0000 2017', 'id_str': '8500062451212695744', 'text': 'What is important is not so much how long you live as whether you live a meaningful life. This doesn’t mean accumulating money and fame, but being of service to your fellow human beings. It means helping others if you can, but even if you can’t do that, at least not harming them.', 'user': {'id': 224499494528, 'name': 'user 28', 'screen_name': 'Twitter User', 'location': 'Internet', 'url': 'user URL', 'description': 'user description'}, 'place': {}, 'entities': {'hashtags': [], 'urls': [{'url': 'twt url sample', 'unwound': {'url': 'url sample', 'title': 'web page title'}}], 'user_mentions': []}}\n",
      "{'_id': ObjectId('65deaa68cadd406b2c8e6f2c'), 'created_at': 'Thu Apr 06 15:24:43 +0000 2017', 'id_str': '8500062451216295744', 'text': 'If you ever wondered about the role of a senior pc member or a general chair at BPM conferences, check the new version of the BPM Conference Guidelines at http://bit.ly/2A2NWG1 ', 'user': {'id': 224499494529, 'name': 'user 29', 'screen_name': 'Twitter User', 'location': 'Internet', 'url': 'user URL', 'description': 'user description'}, 'place': {}, 'entities': {'hashtags': [], 'urls': [{'url': 'twt url sample', 'unwound': {'url': 'url sample', 'title': 'web page title'}}], 'user_mentions': []}}\n",
      "{'_id': ObjectId('65deaa68cadd406b2c8e6f2d'), 'created_at': 'Thu Apr 06 15:24:44 +0000 2017', 'id_str': '8500062451216925744', 'text': 'Boston Dynamics new Atlas robot', 'user': {'id': 224499494530, 'name': 'user 30', 'screen_name': 'Twitter User', 'location': 'Internet', 'url': 'user URL', 'description': 'user description'}, 'place': {}, 'entities': {'hashtags': [], 'urls': [{'url': 'twt url sample', 'unwound': {'url': 'url sample', 'title': 'web page title'}}], 'user_mentions': []}}\n",
      "{'_id': ObjectId('65deaa68cadd406b2c8e6f2e'), 'created_at': 'Thu Apr 06 15:24:45 +0000 2017', 'id_str': '8500062451216952744', 'text': 'The use of force may control people physically, but it won’t change their hearts and minds. You can only do that on the basis of trust and friendship.', 'user': {'id': 224499494531, 'name': 'user 31', 'screen_name': 'Twitter User', 'location': 'Internet', 'url': 'user URL', 'description': 'user description'}, 'place': {}, 'entities': {'hashtags': [], 'urls': [{'url': 'twt url sample', 'unwound': {'url': 'url sample', 'title': 'web page title'}}], 'user_mentions': []}}\n",
      "{'_id': ObjectId('65deaa68cadd406b2c8e6f2f'), 'created_at': 'Thu Apr 06 15:24:46 +0000 2017', 'id_str': '8500062451216957244', 'text': 'CoreDB: a Data Lake Service: http://youtu.be/uCOn67IdrPU?a  via @YouTube', 'user': {'id': 224499494532, 'name': 'user 32', 'screen_name': 'Twitter User', 'location': 'Internet', 'url': 'user URL', 'description': 'user description'}, 'place': {}, 'entities': {'hashtags': [], 'urls': [{'url': 'twt url sample', 'unwound': {'url': 'url sample', 'title': 'web page title'}}], 'user_mentions': []}}\n",
      "{'_id': ObjectId('65deaa68cadd406b2c8e6f30'), 'created_at': 'Thu Apr 06 15:24:47 +0000 2017', 'id_str': '8500062451216957424', 'text': 'Happy Day of Cyrus the Great, the King of Persia - 29 October. Here is a drawing I made almost one year ago when I visited his tomb.', 'user': {'id': 224499494533, 'name': 'user 33', 'screen_name': 'Twitter User', 'location': 'Internet', 'url': 'user URL', 'description': 'user description'}, 'place': {}, 'entities': {'hashtags': [], 'urls': [{'url': 'twt url sample', 'unwound': {'url': 'url sample', 'title': 'web page title'}}], 'user_mentions': []}}\n",
      "{'_id': ObjectId('65deaa68cadd406b2c8e6f31'), 'created_at': 'Thu Apr 06 15:24:48 +0000 2017', 'id_str': '8500062451216957442', 'text': 'Optical Illusion Crosswalk Aims to Slow Down Speedy Iceland Drivers', 'user': {'id': 224499494534, 'name': 'user 34', 'screen_name': 'Twitter User', 'location': 'Internet', 'url': 'user URL', 'description': 'user description'}, 'place': {}, 'entities': {'hashtags': [], 'urls': [{'url': 'twt url sample', 'unwound': {'url': 'url sample', 'title': 'web page title'}}], 'user_mentions': []}}\n",
      "{'_id': ObjectId('65deaa68cadd406b2c8e6f32'), 'created_at': 'Thu Apr 06 15:24:49 +0000 2017', 'id_str': '3850006245121695744', 'text': 'Interested in co-locating your workshop with #BPM2018? Have a look at the call for workshop proposals: http://bit.ly/2gnxUNY ', 'user': {'id': 224499494535, 'name': 'user 35', 'screen_name': 'Twitter User', 'location': 'Internet', 'url': 'user URL', 'description': 'user description'}, 'place': {}, 'entities': {'hashtags': [], 'urls': [{'url': 'twt url sample', 'unwound': {'url': 'url sample', 'title': 'web page title'}}], 'user_mentions': []}}\n",
      "{'_id': ObjectId('65deaa68cadd406b2c8e6f33'), 'created_at': 'Thu Apr 06 15:24:50 +0000 2017', 'id_str': '8350006245121695744', 'text': 'How can a chatbot help with mental health? Great article on Woebot. @willknight', 'user': {'id': 224499494536, 'name': 'user 36', 'screen_name': 'Twitter User', 'location': 'Internet', 'url': 'user URL', 'description': 'user description'}, 'place': {}, 'entities': {'hashtags': [], 'urls': [{'url': 'twt url sample', 'unwound': {'url': 'url sample', 'title': 'web page title'}}], 'user_mentions': []}}\n",
      "{'_id': ObjectId('65deaa68cadd406b2c8e6f34'), 'created_at': 'Thu Apr 06 15:24:51 +0000 2017', 'id_str': '8530006245121695744', 'text': 'Figure out your data structures, and the code will follow. - William Laeder', 'user': {'id': 224499494537, 'name': 'user 37', 'screen_name': 'Twitter User', 'location': 'Internet', 'url': 'user URL', 'description': 'user description'}, 'place': {}, 'entities': {'hashtags': [], 'urls': [{'url': 'twt url sample', 'unwound': {'url': 'url sample', 'title': 'web page title'}}], 'user_mentions': []}}\n",
      "{'_id': ObjectId('65deaa68cadd406b2c8e6f35'), 'created_at': 'Thu Apr 06 15:24:52 +0000 2017', 'id_str': '8503006245121695744', 'text': 'Learning by playing #games is a key way that humans & animals build intelligence. #AI can work the same way https://www.topbots.com/how-games-make-ai-smarter-openai-starcraft-minecraft/ … #ML', 'user': {'id': 224499494538, 'name': 'user 38', 'screen_name': 'Twitter User', 'location': 'Internet', 'url': 'user URL', 'description': 'user description'}, 'place': {}, 'entities': {'hashtags': [], 'urls': [{'url': 'twt url sample', 'unwound': {'url': 'url sample', 'title': 'web page title'}}], 'user_mentions': []}}\n",
      "{'_id': ObjectId('65deaa68cadd406b2c8e6f36'), 'created_at': 'Thu Apr 06 15:24:53 +0000 2017', 'id_str': '8500306245121695744', 'text': '@Samsung Bought a fridge, 2000$, makes noise like a jackhammer (60 dB) customer service tells me to wait SIX MONTHS. bs. #samsungshameshame', 'user': {'id': 224499494539, 'name': 'user 39', 'screen_name': 'Twitter User', 'location': 'Internet', 'url': 'user URL', 'description': 'user description'}, 'place': {}, 'entities': {'hashtags': [], 'urls': [{'url': 'twt url sample', 'unwound': {'url': 'url sample', 'title': 'web page title'}}], 'user_mentions': []}}\n",
      "{'_id': ObjectId('65deaa68cadd406b2c8e6f37'), 'created_at': 'Thu Apr 06 15:24:54 +0000 2017', 'id_str': '8500036245121695744', 'text': 'Hundreds of millions of students spending years in school while learning virtually nothing. We need to do better!', 'user': {'id': 224499494540, 'name': 'user 40', 'screen_name': 'Twitter User', 'location': 'Internet', 'url': 'user URL', 'description': 'user description'}, 'place': {}, 'entities': {'hashtags': [], 'urls': [{'url': 'twt url sample', 'unwound': {'url': 'url sample', 'title': 'web page title'}}], 'user_mentions': []}}\n",
      "{'_id': ObjectId('65deaa68cadd406b2c8e6f38'), 'created_at': 'Thu Apr 06 15:24:55 +0000 2017', 'id_str': '8500063245121695744', 'text': 'Failure is not falling down, but refusing to get up.~Chinese Proverb', 'user': {'id': 224499494541, 'name': 'user 41', 'screen_name': 'Twitter User', 'location': 'Internet', 'url': 'user URL', 'description': 'user description'}, 'place': {}, 'entities': {'hashtags': [], 'urls': [{'url': 'twt url sample', 'unwound': {'url': 'url sample', 'title': 'web page title'}}], 'user_mentions': []}}\n",
      "{'_id': ObjectId('65deaa68cadd406b2c8e6f39'), 'created_at': 'Thu Apr 06 15:24:56 +0000 2017', 'id_str': '8500062453121695744', 'text': 'Putin says the nation that leads in AI ‘will be the ruler of the world’', 'user': {'id': 224499494542, 'name': 'user 42', 'screen_name': 'Twitter User', 'location': 'Internet', 'url': 'user URL', 'description': 'user description'}, 'place': {}, 'entities': {'hashtags': [], 'urls': [{'url': 'twt url sample', 'unwound': {'url': 'url sample', 'title': 'web page title'}}], 'user_mentions': []}}\n",
      "{'_id': ObjectId('65deaa68cadd406b2c8e6f3a'), 'created_at': 'Thu Apr 06 15:24:57 +0000 2017', 'id_str': '8500062451216395744', 'text': 'Putting everyday objects in the hands of great teachers can lead to magical moments in the classroom…', 'user': {'id': 224499494543, 'name': 'user 43', 'screen_name': 'Twitter User', 'location': 'Internet', 'url': 'user URL', 'description': 'user description'}, 'place': {}, 'entities': {'hashtags': [], 'urls': [{'url': 'twt url sample', 'unwound': {'url': 'url sample', 'title': 'web page title'}}], 'user_mentions': []}}\n",
      "{'_id': ObjectId('65deaa68cadd406b2c8e6f3b'), 'created_at': 'Thu Apr 06 15:24:58 +0000 2017', 'id_str': '8500062451216957344', 'text': 'You may control people physically by force, but you won’t change their hearts and minds—that requires trust and friendship.', 'user': {'id': 224499494544, 'name': 'user 44', 'screen_name': 'Twitter User', 'location': 'Internet', 'url': 'user URL', 'description': 'user description'}, 'place': {}, 'entities': {'hashtags': [], 'urls': [{'url': 'twt url sample', 'unwound': {'url': 'url sample', 'title': 'web page title'}}], 'user_mentions': []}}\n",
      "{'_id': ObjectId('65deaa68cadd406b2c8e6f3c'), 'created_at': 'Thu Apr 06 15:24:59 +0000 2017', 'id_str': '8500062451216957434', 'text': 'Congrats to Dr @Jemma_Geoghegan, recipient of a Young Tall Poppy Science Award for her work in evolutionary biology! http://macq.it/2v3fVkQ ', 'user': {'id': 224499494545, 'name': 'user 45', 'screen_name': 'Twitter User', 'location': 'Internet', 'url': 'user URL', 'description': 'user description'}, 'place': {}, 'entities': {'hashtags': [], 'urls': [{'url': 'twt url sample', 'unwound': {'url': 'url sample', 'title': 'web page title'}}], 'user_mentions': []}}\n",
      "{'_id': ObjectId('65deaa68cadd406b2c8e6f3d'), 'created_at': 'Thu Apr 06 15:25:01 +0000 2017', 'id_str': '8500062451216957443', 'text': \"There is a growing danger we are slowly sleepwalking into war on the Korean Peninsula. My reflections in today's @FT\", 'user': {'id': 224499494546, 'name': 'user 46', 'screen_name': 'Twitter User', 'location': 'Internet', 'url': 'user URL', 'description': 'user description'}, 'place': {}, 'entities': {'hashtags': [], 'urls': [{'url': 'twt url sample', 'unwound': {'url': 'url sample', 'title': 'web page title'}}], 'user_mentions': []}}\n",
      "{'_id': ObjectId('65deaa68cadd406b2c8e6f3e'), 'created_at': 'Thu Apr 06 15:25:02 +0000 2017', 'id_str': '5850006245121695744', 'text': 'One of the most brilliant and chilling things ever written about nuclear war, by the late Roger Fisher.', 'user': {'id': 224499494547, 'name': 'user 47', 'screen_name': 'Twitter User', 'location': 'Internet', 'url': 'user URL', 'description': 'user description'}, 'place': {}, 'entities': {'hashtags': [], 'urls': [{'url': 'twt url sample', 'unwound': {'url': 'url sample', 'title': 'web page title'}}], 'user_mentions': []}}\n",
      "{'_id': ObjectId('65deaa68cadd406b2c8e6f3f'), 'created_at': 'Thu Apr 06 15:25:03 +0000 2017', 'id_str': '8505006245121695744', 'text': 'There are few things I enjoy more than reading a good book. Here are a few I’ve read and recommend: http://bit.ly/2wJGOLK  #BookLoversDay', 'user': {'id': 224499494548, 'name': 'user 48', 'screen_name': 'Twitter User', 'location': 'Internet', 'url': 'user URL', 'description': 'user description'}, 'place': {}, 'entities': {'hashtags': [], 'urls': [{'url': 'twt url sample', 'unwound': {'url': 'url sample', 'title': 'web page title'}}], 'user_mentions': []}}\n",
      "{'_id': ObjectId('65deaa68cadd406b2c8e6f40'), 'created_at': 'Thu Apr 06 15:25:04 +0000 2017', 'id_str': '8500062451215695744', 'text': 'Announcing deeplearning.ai! Deep Learning on Coursera: Master Deep Learning, and build a career in AI!', 'user': {'id': 224499494549, 'name': 'user 49', 'screen_name': 'Twitter User', 'location': 'Internet', 'url': 'user URL', 'description': 'user description'}, 'place': {}, 'entities': {'hashtags': [], 'urls': [{'url': 'twt url sample', 'unwound': {'url': 'url sample', 'title': 'web page title'}}], 'user_mentions': []}}\n",
      "{'_id': ObjectId('65deaa68cadd406b2c8e6f41'), 'created_at': 'Thu Apr 06 15:25:06 +0000 2017', 'id_str': '8500062451216957544', 'text': 'The universe is a pretty big place. If it’s just us, seems like an awful waste of space. ~Carl Sagan', 'user': {'id': 224499494550, 'name': 'user 50', 'screen_name': 'Twitter User', 'location': 'Internet', 'url': 'user URL', 'description': 'user description'}, 'place': {}, 'entities': {'hashtags': [], 'urls': [{'url': 'twt url sample', 'unwound': {'url': 'url sample', 'title': 'web page title'}}], 'user_mentions': []}}\n",
      "{'_id': ObjectId('65deadb08fe030d04864fbd6'), 'user': 'user 51', 'new_field': 'test'}\n",
      "{'_id': ObjectId('65deadb08fe030d04864fbd7'), 'user': 'user 52'}\n",
      "{'_id': ObjectId('65deadb08fe030d04864fbd8'), 'user': 'user 53'}\n",
      "{'_id': ObjectId('65deadb48fe030d04864fbd9'), 'user': 'user 51', 'new_field': 'test'}\n",
      "{'_id': ObjectId('65deadb48fe030d04864fbda'), 'user': 'user 52'}\n",
      "{'_id': ObjectId('65deadb48fe030d04864fbdb'), 'user': 'user 53'}\n",
      "{'_id': ObjectId('65deadb98fe030d04864fbdc'), 'user': 'user 51', 'new_field': 'test'}\n",
      "{'_id': ObjectId('65deadb98fe030d04864fbdd'), 'user': 'user 52'}\n",
      "{'_id': ObjectId('65deadb98fe030d04864fbde'), 'user': 'user 53'}\n",
      "{'_id': ObjectId('65deae938fe030d04864fbdf'), 'user': 'user 51', 'new_field': 'test'}\n",
      "{'_id': ObjectId('65deae938fe030d04864fbe0'), 'user': 'user 52'}\n",
      "{'_id': ObjectId('65deae938fe030d04864fbe1'), 'user': 'user 53'}\n",
      "{'_id': ObjectId('65deae938fe030d04864fbe2'), 'user': 'user 51', 'new_field': 'test'}\n",
      "{'_id': ObjectId('65deae938fe030d04864fbe3'), 'user': 'user 52'}\n",
      "{'_id': ObjectId('65deae938fe030d04864fbe4'), 'user': 'user 53'}\n",
      "{'_id': ObjectId('65deaf4f8fe030d04864fbe5'), 'user': 'user 51', 'new_field': 'test'}\n",
      "{'_id': ObjectId('65deaf4f8fe030d04864fbe6'), 'user': 'user 52'}\n",
      "{'_id': ObjectId('65deaf4f8fe030d04864fbe7'), 'user': 'user 53'}\n",
      "{'_id': ObjectId('65deaf4f8fe030d04864fbe8'), 'user': 'user 51', 'new_field': 'test'}\n",
      "{'_id': ObjectId('65deaf4f8fe030d04864fbe9'), 'user': 'user 52'}\n",
      "{'_id': ObjectId('65deaf4f8fe030d04864fbea'), 'user': 'user 53'}\n",
      "{'_id': ObjectId('65deaf4f8fe030d04864fbeb'), 'user': 'user 58'}\n",
      "{'_id': ObjectId('65deaf4f8fe030d04864fbec'), 'user': 'user 59'}\n",
      "{'_id': ObjectId('65deb0728fe030d04864fbed'), 'user': 'user 51', 'new_field': 'test'}\n",
      "{'_id': ObjectId('65deb0728fe030d04864fbee'), 'user': 'user 52'}\n",
      "{'_id': ObjectId('65deb0728fe030d04864fbef'), 'user': 'user 53'}\n",
      "{'_id': ObjectId('65deb0728fe030d04864fbf0'), 'user': 'user 51', 'new_field': 'test'}\n",
      "{'_id': ObjectId('65deb0728fe030d04864fbf1'), 'user': 'user 52'}\n",
      "{'_id': ObjectId('65deb0728fe030d04864fbf2'), 'user': 'user 53'}\n",
      "{'_id': ObjectId('65deb0728fe030d04864fbf3'), 'user': 'user 58'}\n",
      "{'_id': ObjectId('65deb0728fe030d04864fbf4'), 'user': 'user 59'}\n",
      "{'_id': ObjectId('65deb0728fe030d04864fbf5'), 'user.name': 'user 59'}\n",
      "{'_id': ObjectId('65deb5658fe030d04864fbf6'), 'user': 'user 51', 'new_field': 'test'}\n",
      "{'_id': ObjectId('65deb5658fe030d04864fbf7'), 'user': 'user 52'}\n",
      "{'_id': ObjectId('65deb5658fe030d04864fbf8'), 'user': 'user 53'}\n",
      "{'_id': ObjectId('65deb5658fe030d04864fbf9'), 'user': 'user 51', 'new_field': 'test'}\n",
      "{'_id': ObjectId('65deb5658fe030d04864fbfa'), 'user': 'user 52'}\n",
      "{'_id': ObjectId('65deb5658fe030d04864fbfb'), 'user': 'user 53'}\n",
      "{'_id': ObjectId('65deb5658fe030d04864fbfc'), 'user': 'user 58'}\n",
      "{'_id': ObjectId('65deb5658fe030d04864fbfd'), 'user': 'user 59'}\n",
      "{'_id': ObjectId('65deb5658fe030d04864fbfe'), 'user.name': 'user 59'}\n",
      "{'_id': ObjectId('65deb7c58fe030d04864fbff'), 'user': 'user 51', 'new_field': 'test'}\n",
      "{'_id': ObjectId('65deb7c58fe030d04864fc00'), 'user': 'user 52'}\n",
      "{'_id': ObjectId('65deb7c58fe030d04864fc01'), 'user': 'user 53'}\n",
      "{'_id': ObjectId('65deb7c58fe030d04864fc02'), 'user': 'user 51', 'new_field': 'test'}\n",
      "{'_id': ObjectId('65deb7c58fe030d04864fc03'), 'user': 'user 52'}\n",
      "{'_id': ObjectId('65deb7c58fe030d04864fc04'), 'user': 'user 53'}\n",
      "{'_id': ObjectId('65deb7c58fe030d04864fc05'), 'user': 'user 58'}\n",
      "{'_id': ObjectId('65deb7c58fe030d04864fc06'), 'user': 'user 59'}\n",
      "{'_id': ObjectId('65deb7c58fe030d04864fc07'), 'user.name': 'user 59'}\n",
      "{'_id': ObjectId('65deb7c88fe030d04864fc08'), 'user': 'user 51', 'new_field': 'test'}\n",
      "{'_id': ObjectId('65deb7c88fe030d04864fc09'), 'user': 'user 52'}\n",
      "{'_id': ObjectId('65deb7c88fe030d04864fc0a'), 'user': 'user 53'}\n",
      "{'_id': ObjectId('65deb7c88fe030d04864fc0b'), 'user': 'user 51', 'new_field': 'test'}\n",
      "{'_id': ObjectId('65deb7c88fe030d04864fc0c'), 'user': 'user 52'}\n",
      "{'_id': ObjectId('65deb7c88fe030d04864fc0d'), 'user': 'user 53'}\n",
      "{'_id': ObjectId('65deb7c88fe030d04864fc0e'), 'user': 'user 58'}\n",
      "{'_id': ObjectId('65deb7c88fe030d04864fc0f'), 'user': 'user 59'}\n",
      "{'_id': ObjectId('65deb7c88fe030d04864fc10'), 'user.name': 'user 59'}\n",
      "{'_id': ObjectId('65deb7cc8fe030d04864fc11'), 'user': 'user 51', 'new_field': 'test'}\n",
      "{'_id': ObjectId('65deb7cc8fe030d04864fc12'), 'user': 'user 52'}\n",
      "{'_id': ObjectId('65deb7cc8fe030d04864fc13'), 'user': 'user 53'}\n",
      "{'_id': ObjectId('65deb7cc8fe030d04864fc14'), 'user': 'user 51', 'new_field': 'test'}\n",
      "{'_id': ObjectId('65deb7cc8fe030d04864fc15'), 'user': 'user 52'}\n",
      "{'_id': ObjectId('65deb7cc8fe030d04864fc16'), 'user': 'user 53'}\n",
      "{'_id': ObjectId('65deb7cc8fe030d04864fc17'), 'user': 'user 58'}\n",
      "{'_id': ObjectId('65deb7cc8fe030d04864fc18'), 'user': 'user 59'}\n",
      "{'_id': ObjectId('65deb7cc8fe030d04864fc19'), 'user.name': 'user 59'}\n",
      "{'_id': ObjectId('65deb7cf8fe030d04864fc1a'), 'user': 'user 51', 'new_field': 'test'}\n",
      "{'_id': ObjectId('65deb7cf8fe030d04864fc1b'), 'user': 'user 52'}\n",
      "{'_id': ObjectId('65deb7cf8fe030d04864fc1c'), 'user': 'user 53'}\n",
      "{'_id': ObjectId('65deb7cf8fe030d04864fc1d'), 'user': 'user 51', 'new_field': 'test'}\n",
      "{'_id': ObjectId('65deb7cf8fe030d04864fc1e'), 'user': 'user 52'}\n",
      "{'_id': ObjectId('65deb7cf8fe030d04864fc1f'), 'user': 'user 53'}\n",
      "{'_id': ObjectId('65deb7cf8fe030d04864fc20'), 'user': 'user 58'}\n",
      "{'_id': ObjectId('65deb7cf8fe030d04864fc21'), 'user': 'user 59'}\n",
      "{'_id': ObjectId('65deb7cf8fe030d04864fc22'), 'user.name': 'user 59'}\n",
      "{'_id': ObjectId('65deb7d58fe030d04864fc23'), 'user': 'user 51', 'new_field': 'test'}\n",
      "{'_id': ObjectId('65deb7d58fe030d04864fc24'), 'user': 'user 52'}\n",
      "{'_id': ObjectId('65deb7d58fe030d04864fc25'), 'user': 'user 53'}\n",
      "{'_id': ObjectId('65deb7d58fe030d04864fc26'), 'user': 'user 51', 'new_field': 'test'}\n",
      "{'_id': ObjectId('65deb7d58fe030d04864fc27'), 'user': 'user 52'}\n",
      "{'_id': ObjectId('65deb7d58fe030d04864fc28'), 'user': 'user 53'}\n",
      "{'_id': ObjectId('65deb7d58fe030d04864fc29'), 'user': 'user 58'}\n",
      "{'_id': ObjectId('65deb7d58fe030d04864fc2a'), 'user': 'user 59'}\n",
      "{'_id': ObjectId('65deb7d58fe030d04864fc2b'), 'user.name': 'user 59'}\n",
      "{'_id': ObjectId('65deb7d88fe030d04864fc2c'), 'user': 'user 51', 'new_field': 'test'}\n",
      "{'_id': ObjectId('65deb7d88fe030d04864fc2d'), 'user': 'user 52'}\n",
      "{'_id': ObjectId('65deb7d88fe030d04864fc2e'), 'user': 'user 53'}\n",
      "{'_id': ObjectId('65deb7d88fe030d04864fc2f'), 'user': 'user 51', 'new_field': 'test'}\n",
      "{'_id': ObjectId('65deb7d88fe030d04864fc30'), 'user': 'user 52'}\n",
      "{'_id': ObjectId('65deb7d88fe030d04864fc31'), 'user': 'user 53'}\n",
      "{'_id': ObjectId('65deb7d88fe030d04864fc32'), 'user': 'user 58'}\n",
      "{'_id': ObjectId('65deb7d88fe030d04864fc33'), 'user': 'user 59'}\n",
      "{'_id': ObjectId('65deb7d88fe030d04864fc34'), 'user.name': 'user 59'}\n",
      "{'_id': ObjectId('65deb8728fe030d04864fc35'), 'user': 'user 51', 'new_field': 'test'}\n",
      "{'_id': ObjectId('65deb8728fe030d04864fc36'), 'user': 'user 52'}\n",
      "{'_id': ObjectId('65deb8728fe030d04864fc37'), 'user': 'user 53'}\n",
      "{'_id': ObjectId('65deb8728fe030d04864fc38'), 'user': 'user 51', 'new_field': 'test'}\n",
      "{'_id': ObjectId('65deb8728fe030d04864fc39'), 'user': 'user 52'}\n",
      "{'_id': ObjectId('65deb8728fe030d04864fc3a'), 'user': 'user 53'}\n",
      "{'_id': ObjectId('65deb8728fe030d04864fc3b'), 'user': 'user 58'}\n",
      "{'_id': ObjectId('65deb8728fe030d04864fc3c'), 'user': 'user 59'}\n",
      "{'_id': ObjectId('65deb8728fe030d04864fc3d'), 'user.name': 'user 59'}\n",
      "{'_id': ObjectId('65deba2c8fe030d04864fc3e'), 'user': 'user 51', 'new_field': 'test'}\n",
      "{'_id': ObjectId('65deba2c8fe030d04864fc3f'), 'user': 'user 52'}\n",
      "{'_id': ObjectId('65deba2c8fe030d04864fc40'), 'user': 'user 53'}\n",
      "{'_id': ObjectId('65deba2c8fe030d04864fc41'), 'user': 'user 51', 'new_field': 'test'}\n",
      "{'_id': ObjectId('65deba2c8fe030d04864fc42'), 'user': 'user 52'}\n",
      "{'_id': ObjectId('65deba2c8fe030d04864fc43'), 'user': 'user 53'}\n",
      "{'_id': ObjectId('65deba2c8fe030d04864fc44'), 'user': 'user 58'}\n",
      "{'_id': ObjectId('65deba2c8fe030d04864fc45'), 'user': 'user 59'}\n",
      "{'_id': ObjectId('65deba2c8fe030d04864fc46'), 'user.name': 'user 59'}\n",
      "{'_id': ObjectId('65deba318fe030d04864fc47'), 'user': 'user 51', 'new_field': 'test'}\n",
      "{'_id': ObjectId('65deba318fe030d04864fc48'), 'user': 'user 52'}\n",
      "{'_id': ObjectId('65deba318fe030d04864fc49'), 'user': 'user 53'}\n",
      "{'_id': ObjectId('65deba318fe030d04864fc4a'), 'user': 'user 51', 'new_field': 'test'}\n",
      "{'_id': ObjectId('65deba318fe030d04864fc4b'), 'user': 'user 52'}\n",
      "{'_id': ObjectId('65deba318fe030d04864fc4c'), 'user': 'user 53'}\n",
      "{'_id': ObjectId('65deba318fe030d04864fc4d'), 'user': 'user 58'}\n",
      "{'_id': ObjectId('65deba318fe030d04864fc4e'), 'user': 'user 59'}\n",
      "{'_id': ObjectId('65deba318fe030d04864fc4f'), 'user.name': 'user 59'}\n",
      "{'_id': ObjectId('65deba368fe030d04864fc50'), 'user': 'user 51', 'new_field': 'test'}\n",
      "{'_id': ObjectId('65deba368fe030d04864fc51'), 'user': 'user 52'}\n",
      "{'_id': ObjectId('65deba368fe030d04864fc52'), 'user': 'user 53'}\n",
      "{'_id': ObjectId('65deba368fe030d04864fc53'), 'user': 'user 51', 'new_field': 'test'}\n",
      "{'_id': ObjectId('65deba368fe030d04864fc54'), 'user': 'user 52'}\n",
      "{'_id': ObjectId('65deba368fe030d04864fc55'), 'user': 'user 53'}\n",
      "{'_id': ObjectId('65deba368fe030d04864fc56'), 'user': 'user 58'}\n",
      "{'_id': ObjectId('65deba368fe030d04864fc57'), 'user': 'user 59'}\n",
      "{'_id': ObjectId('65deba368fe030d04864fc58'), 'user.name': 'user 59'}\n",
      "{'_id': ObjectId('65deba3c8fe030d04864fc59'), 'user': 'user 51', 'new_field': 'test'}\n",
      "{'_id': ObjectId('65deba3c8fe030d04864fc5a'), 'user': 'user 52'}\n",
      "{'_id': ObjectId('65deba3c8fe030d04864fc5b'), 'user': 'user 53'}\n",
      "{'_id': ObjectId('65deba3c8fe030d04864fc5c'), 'user': 'user 51', 'new_field': 'test'}\n",
      "{'_id': ObjectId('65deba3c8fe030d04864fc5d'), 'user': 'user 52'}\n",
      "{'_id': ObjectId('65deba3c8fe030d04864fc5e'), 'user': 'user 53'}\n",
      "{'_id': ObjectId('65deba3c8fe030d04864fc5f'), 'user': 'user 58'}\n",
      "{'_id': ObjectId('65deba3c8fe030d04864fc60'), 'user': 'user 59'}\n",
      "{'_id': ObjectId('65deba3c8fe030d04864fc61'), 'user.name': 'user 59'}\n"
     ]
    }
   ],
   "source": [
    "for doc in col.find():\n",
    "    print(doc)"
   ]
  },
  {
   "cell_type": "code",
   "execution_count": 7,
   "id": "b95cd8f1-ba92-4f60-a559-56f702fa66f7",
   "metadata": {},
   "outputs": [
    {
     "name": "stdout",
     "output_type": "stream",
     "text": [
      "Train people well enough so they can leave, treat them well enough so they don't want to. —@richardbranson\n",
      "On Friday evening we welcomed our new MRes and PhD Students on a walking tour of the City. Some of them are International Students and enjoyed seeing the sights of Sydney!  #cityofsydney #macquarieuniexperience @Macquarie_Uni @mqintl @MQSciEng\n",
      "Excited to publish the BPM Newsletter 1-2018, my first one! Download at https://tinyurl.com/y7ync633  @BPMConf #BPM2018\n",
      "Our social networks  amplify negative more than the positive. Great article  https://washingtonmonthly.com/magazine/january-february-march-2018/how-to-fix-facebook-before-it-fixes-us/ … cc @webfoundation\n",
      "Welcome to the official Department of Computing @computing_mq Twitter Account.\n",
      "Watch this incredible @TEDTalks with IBM scientist @BmiBruno titled 'How our brains will keep up with #AI' - and stay tuned for the fun ending - Hint: look at his shoes -  #TEDatIBM\n",
      "A man with Down Syndrome, with help from his Dad, is using his million-dollar company to show the world what people with learning disabilities are capable of. Amazing.\n",
      "Be a good person, but don't waste your time trying to prove it\n",
      "Have you started writing your #BPM2018 paper? Only one month left till the abstract submission: http://bpm2018.web.cse.unsw.edu.au/Call_for_Papers.html \n",
      "The final http://deeplearning.ai  course on Sequence Models is now up on @Coursera! Projects you'll build include Speech trigger word detection, Translation, Emojification, Text generation, ... w/RNN, LSTM, GRU, Word embeddings & Attention. Hope you have fun with it!\n",
      "Many people think that patience is a sign of weakness. I think this is a mistake. It is anger that is a sign of weakness, whereas patience is a sign of strength.\n",
      "15-year olds Bailey Holt and Preston Cope, the two teens killed in the #KentuckySchoolShooting. It was the 11th school shooting of 2018. There are 7 days left in January.\n",
      "Her name is Avgi, and the last time anyone saw her face was in Greece nearly 9,000 years ago\n",
      "What’s past is past, nothing can change that. But the future can be different if we choose to make it so. We have to cultivate a vision of a happier, more peaceful future and make the effort now to bring it about. This is no time for complacency, hope lies in the action we take.\n",
      "Business Process Analytics deals with examining large and varied process related data (i.e. big process data) to uncover hidden patterns, unknown correlations, market trends, customer preferences and other useful insights. \n",
      "Modern education pays little attention to inner values and yet our basic human nature is compassionate. We need to incorporate compassion and warm-heartedness into the modern education system to make it more holistic.\n",
      "Happiness shouldn’t be a goal, it should be a habit https://virg.in/J3r \n",
      "The way you perceive and react to the world is a choice. ~David Wallace Choose wisely! 2018 is your chance!\n",
      "Relive the breathtaking 2017 #SydNYE fireworks display - see the highlights of our biggest fireworks display ever\n",
      "The Sydney fireworks always looks amazing, on my bucket list to be there for New Years:) Wishing everyone happiness and good health in 2018!\n",
      "Want your first AI job? Come intern with me! We're running an internship program that will help people who've completed MOOCs start employment in AI. http://landing.ai/ai-internship \n",
      "No one in the brief history of computing has ever written a piece of perfect software. It's unlikely that you'll be the first. - Andy Hunt\n",
      "If you’re looking for a great read to enjoy over the holidays, you can’t go wrong with one of these books.\n",
      "This kind photographer turned kids with illnesses and disabilities into superheroes #SundayMorning\n",
      "Thinking a lot about diversity in AI. Here's my current Stanford group: https://stanfordmlgroup.github.io/#people  We striving to do better and increase diversity. AI needs to welcome everyone!\n",
      "What is important is not so much how long you live as whether you live a meaningful life. This doesn’t mean accumulating money and fame, but being of service to your fellow human beings. It means helping others if you can, but even if you can’t do that, at least not harming them.\n",
      "If you ever wondered about the role of a senior pc member or a general chair at BPM conferences, check the new version of the BPM Conference Guidelines at http://bit.ly/2A2NWG1 \n",
      "Boston Dynamics new Atlas robot\n",
      "The use of force may control people physically, but it won’t change their hearts and minds. You can only do that on the basis of trust and friendship.\n",
      "CoreDB: a Data Lake Service: http://youtu.be/uCOn67IdrPU?a  via @YouTube\n",
      "Happy Day of Cyrus the Great, the King of Persia - 29 October. Here is a drawing I made almost one year ago when I visited his tomb.\n",
      "Optical Illusion Crosswalk Aims to Slow Down Speedy Iceland Drivers\n",
      "Interested in co-locating your workshop with #BPM2018? Have a look at the call for workshop proposals: http://bit.ly/2gnxUNY \n",
      "How can a chatbot help with mental health? Great article on Woebot. @willknight\n",
      "Figure out your data structures, and the code will follow. - William Laeder\n",
      "Learning by playing #games is a key way that humans & animals build intelligence. #AI can work the same way https://www.topbots.com/how-games-make-ai-smarter-openai-starcraft-minecraft/ … #ML\n",
      "@Samsung Bought a fridge, 2000$, makes noise like a jackhammer (60 dB) customer service tells me to wait SIX MONTHS. bs. #samsungshameshame\n",
      "Hundreds of millions of students spending years in school while learning virtually nothing. We need to do better!\n",
      "Failure is not falling down, but refusing to get up.~Chinese Proverb\n",
      "Putin says the nation that leads in AI ‘will be the ruler of the world’\n",
      "Putting everyday objects in the hands of great teachers can lead to magical moments in the classroom…\n",
      "You may control people physically by force, but you won’t change their hearts and minds—that requires trust and friendship.\n",
      "Congrats to Dr @Jemma_Geoghegan, recipient of a Young Tall Poppy Science Award for her work in evolutionary biology! http://macq.it/2v3fVkQ \n",
      "There is a growing danger we are slowly sleepwalking into war on the Korean Peninsula. My reflections in today's @FT\n",
      "One of the most brilliant and chilling things ever written about nuclear war, by the late Roger Fisher.\n",
      "There are few things I enjoy more than reading a good book. Here are a few I’ve read and recommend: http://bit.ly/2wJGOLK  #BookLoversDay\n",
      "Announcing deeplearning.ai! Deep Learning on Coursera: Master Deep Learning, and build a career in AI!\n",
      "The universe is a pretty big place. If it’s just us, seems like an awful waste of space. ~Carl Sagan\n"
     ]
    },
    {
     "ename": "KeyError",
     "evalue": "'text'",
     "output_type": "error",
     "traceback": [
      "\u001b[1;31m---------------------------------------------------------------------------\u001b[0m",
      "\u001b[1;31mKeyError\u001b[0m                                  Traceback (most recent call last)",
      "Cell \u001b[1;32mIn[7], line 2\u001b[0m\n\u001b[0;32m      1\u001b[0m \u001b[38;5;28;01mfor\u001b[39;00m doc \u001b[38;5;129;01min\u001b[39;00m col\u001b[38;5;241m.\u001b[39mfind():\n\u001b[1;32m----> 2\u001b[0m     \u001b[38;5;28mprint\u001b[39m(doc[\u001b[38;5;124m\"\u001b[39m\u001b[38;5;124mtext\u001b[39m\u001b[38;5;124m\"\u001b[39m])\n",
      "\u001b[1;31mKeyError\u001b[0m: 'text'"
     ]
    }
   ],
   "source": [
    "for doc in col.find():\n",
    "    print(doc[\"text\"])"
   ]
  },
  {
   "cell_type": "code",
   "execution_count": 8,
   "id": "5057c8ce-26dc-4add-8316-a5c5055bca89",
   "metadata": {},
   "outputs": [
    {
     "name": "stdout",
     "output_type": "stream",
     "text": [
      "Train people well enough so they can leave, treat them well enough so they don't want to. —@richardbranson\n",
      "On Friday evening we welcomed our new MRes and PhD Students on a walking tour of the City. Some of them are International Students and enjoyed seeing the sights of Sydney!  #cityofsydney #macquarieuniexperience @Macquarie_Uni @mqintl @MQSciEng\n",
      "Excited to publish the BPM Newsletter 1-2018, my first one! Download at https://tinyurl.com/y7ync633  @BPMConf #BPM2018\n",
      "Our social networks  amplify negative more than the positive. Great article  https://washingtonmonthly.com/magazine/january-february-march-2018/how-to-fix-facebook-before-it-fixes-us/ … cc @webfoundation\n",
      "Welcome to the official Department of Computing @computing_mq Twitter Account.\n",
      "Watch this incredible @TEDTalks with IBM scientist @BmiBruno titled 'How our brains will keep up with #AI' - and stay tuned for the fun ending - Hint: look at his shoes -  #TEDatIBM\n",
      "A man with Down Syndrome, with help from his Dad, is using his million-dollar company to show the world what people with learning disabilities are capable of. Amazing.\n",
      "Be a good person, but don't waste your time trying to prove it\n",
      "Have you started writing your #BPM2018 paper? Only one month left till the abstract submission: http://bpm2018.web.cse.unsw.edu.au/Call_for_Papers.html \n",
      "The final http://deeplearning.ai  course on Sequence Models is now up on @Coursera! Projects you'll build include Speech trigger word detection, Translation, Emojification, Text generation, ... w/RNN, LSTM, GRU, Word embeddings & Attention. Hope you have fun with it!\n",
      "Many people think that patience is a sign of weakness. I think this is a mistake. It is anger that is a sign of weakness, whereas patience is a sign of strength.\n",
      "15-year olds Bailey Holt and Preston Cope, the two teens killed in the #KentuckySchoolShooting. It was the 11th school shooting of 2018. There are 7 days left in January.\n",
      "Her name is Avgi, and the last time anyone saw her face was in Greece nearly 9,000 years ago\n",
      "What’s past is past, nothing can change that. But the future can be different if we choose to make it so. We have to cultivate a vision of a happier, more peaceful future and make the effort now to bring it about. This is no time for complacency, hope lies in the action we take.\n",
      "Business Process Analytics deals with examining large and varied process related data (i.e. big process data) to uncover hidden patterns, unknown correlations, market trends, customer preferences and other useful insights. \n",
      "Modern education pays little attention to inner values and yet our basic human nature is compassionate. We need to incorporate compassion and warm-heartedness into the modern education system to make it more holistic.\n",
      "Happiness shouldn’t be a goal, it should be a habit https://virg.in/J3r \n",
      "The way you perceive and react to the world is a choice. ~David Wallace Choose wisely! 2018 is your chance!\n",
      "Relive the breathtaking 2017 #SydNYE fireworks display - see the highlights of our biggest fireworks display ever\n",
      "The Sydney fireworks always looks amazing, on my bucket list to be there for New Years:) Wishing everyone happiness and good health in 2018!\n",
      "Want your first AI job? Come intern with me! We're running an internship program that will help people who've completed MOOCs start employment in AI. http://landing.ai/ai-internship \n",
      "No one in the brief history of computing has ever written a piece of perfect software. It's unlikely that you'll be the first. - Andy Hunt\n",
      "If you’re looking for a great read to enjoy over the holidays, you can’t go wrong with one of these books.\n",
      "This kind photographer turned kids with illnesses and disabilities into superheroes #SundayMorning\n",
      "Thinking a lot about diversity in AI. Here's my current Stanford group: https://stanfordmlgroup.github.io/#people  We striving to do better and increase diversity. AI needs to welcome everyone!\n",
      "What is important is not so much how long you live as whether you live a meaningful life. This doesn’t mean accumulating money and fame, but being of service to your fellow human beings. It means helping others if you can, but even if you can’t do that, at least not harming them.\n",
      "If you ever wondered about the role of a senior pc member or a general chair at BPM conferences, check the new version of the BPM Conference Guidelines at http://bit.ly/2A2NWG1 \n",
      "Boston Dynamics new Atlas robot\n",
      "The use of force may control people physically, but it won’t change their hearts and minds. You can only do that on the basis of trust and friendship.\n",
      "CoreDB: a Data Lake Service: http://youtu.be/uCOn67IdrPU?a  via @YouTube\n",
      "Happy Day of Cyrus the Great, the King of Persia - 29 October. Here is a drawing I made almost one year ago when I visited his tomb.\n",
      "Optical Illusion Crosswalk Aims to Slow Down Speedy Iceland Drivers\n",
      "Interested in co-locating your workshop with #BPM2018? Have a look at the call for workshop proposals: http://bit.ly/2gnxUNY \n",
      "How can a chatbot help with mental health? Great article on Woebot. @willknight\n",
      "Figure out your data structures, and the code will follow. - William Laeder\n",
      "Learning by playing #games is a key way that humans & animals build intelligence. #AI can work the same way https://www.topbots.com/how-games-make-ai-smarter-openai-starcraft-minecraft/ … #ML\n",
      "@Samsung Bought a fridge, 2000$, makes noise like a jackhammer (60 dB) customer service tells me to wait SIX MONTHS. bs. #samsungshameshame\n",
      "Hundreds of millions of students spending years in school while learning virtually nothing. We need to do better!\n",
      "Failure is not falling down, but refusing to get up.~Chinese Proverb\n",
      "Putin says the nation that leads in AI ‘will be the ruler of the world’\n",
      "Putting everyday objects in the hands of great teachers can lead to magical moments in the classroom…\n",
      "You may control people physically by force, but you won’t change their hearts and minds—that requires trust and friendship.\n",
      "Congrats to Dr @Jemma_Geoghegan, recipient of a Young Tall Poppy Science Award for her work in evolutionary biology! http://macq.it/2v3fVkQ \n",
      "There is a growing danger we are slowly sleepwalking into war on the Korean Peninsula. My reflections in today's @FT\n",
      "One of the most brilliant and chilling things ever written about nuclear war, by the late Roger Fisher.\n",
      "There are few things I enjoy more than reading a good book. Here are a few I’ve read and recommend: http://bit.ly/2wJGOLK  #BookLoversDay\n",
      "Announcing deeplearning.ai! Deep Learning on Coursera: Master Deep Learning, and build a career in AI!\n",
      "The universe is a pretty big place. If it’s just us, seems like an awful waste of space. ~Carl Sagan\n"
     ]
    }
   ],
   "source": [
    "#check if the document contains value for text, so it does not throw any error\n",
    "for doc in col.find():\n",
    "    if \"text\" in doc.keys():\n",
    "        print(doc[\"text\"])"
   ]
  },
  {
   "cell_type": "code",
   "execution_count": 9,
   "id": "092289c0-da05-45c3-9302-95169ef9cfc9",
   "metadata": {},
   "outputs": [],
   "source": [
    "#extract one text for testing\n",
    "def keywords():\n",
    "    pass"
   ]
  },
  {
   "cell_type": "code",
   "execution_count": 10,
   "id": "fbd66b8f-7d1e-4297-8028-684ce514b7c8",
   "metadata": {},
   "outputs": [
    {
     "ename": "TypeError",
     "evalue": "keywords() takes 0 positional arguments but 1 was given",
     "output_type": "error",
     "traceback": [
      "\u001b[1;31m---------------------------------------------------------------------------\u001b[0m",
      "\u001b[1;31mTypeError\u001b[0m                                 Traceback (most recent call last)",
      "Cell \u001b[1;32mIn[10], line 3\u001b[0m\n\u001b[0;32m      1\u001b[0m \u001b[38;5;28;01mfor\u001b[39;00m doc \u001b[38;5;129;01min\u001b[39;00m col\u001b[38;5;241m.\u001b[39mfind():\n\u001b[0;32m      2\u001b[0m     \u001b[38;5;28;01mif\u001b[39;00m \u001b[38;5;124m\"\u001b[39m\u001b[38;5;124mtext\u001b[39m\u001b[38;5;124m\"\u001b[39m \u001b[38;5;129;01min\u001b[39;00m doc\u001b[38;5;241m.\u001b[39mkeys():\n\u001b[1;32m----> 3\u001b[0m         res \u001b[38;5;241m=\u001b[39m keywords(doc[\u001b[38;5;124m\"\u001b[39m\u001b[38;5;124mtext\u001b[39m\u001b[38;5;124m\"\u001b[39m])\n\u001b[0;32m      4\u001b[0m         \u001b[38;5;28mprint\u001b[39m(res)\n",
      "\u001b[1;31mTypeError\u001b[0m: keywords() takes 0 positional arguments but 1 was given"
     ]
    }
   ],
   "source": [
    "for doc in col.find():\n",
    "    if \"text\" in doc.keys():\n",
    "        res = keywords(doc[\"text\"])\n",
    "        print(res)"
   ]
  },
  {
   "cell_type": "code",
   "execution_count": 11,
   "id": "b61891c7-7616-4668-99b5-03aa58431930",
   "metadata": {},
   "outputs": [],
   "source": [
    "#extract one text for testing\n",
    "for doc in col.find({\"user.name\":\"user 06\"}):\n",
    "    test_text = doc[\"text\"]\n",
    "def keywords():\n",
    "    pass"
   ]
  },
  {
   "cell_type": "code",
   "execution_count": 12,
   "id": "10ddad6e-40b1-4b37-9804-1420f2842122",
   "metadata": {},
   "outputs": [
    {
     "data": {
      "text/plain": [
       "\"Watch this incredible @TEDTalks with IBM scientist @BmiBruno titled 'How our brains will keep up with #AI' - and stay tuned for the fun ending - Hint: look at his shoes -  #TEDatIBM\""
      ]
     },
     "execution_count": 12,
     "metadata": {},
     "output_type": "execute_result"
    }
   ],
   "source": [
    "test_text"
   ]
  },
  {
   "cell_type": "code",
   "execution_count": 15,
   "id": "02f7e401-9651-4c86-a868-a2b4681f5f2c",
   "metadata": {},
   "outputs": [],
   "source": [
    "#extract one text for testing\n",
    "import re\n",
    "for doc in col.find({\"user.name\":\"user 06\"}):\n",
    "    test_text = doc[\"text\"]\n",
    "def keywords():\n",
    "    #step1: remove symbols= save[a=z][A-Z][0-9]\n",
    "    pass"
   ]
  },
  {
   "cell_type": "code",
   "execution_count": 16,
   "id": "15d908b3-a798-4f0d-8df9-d039188115bb",
   "metadata": {},
   "outputs": [
    {
     "data": {
      "text/plain": [
       "'bbbb'"
      ]
     },
     "execution_count": 16,
     "metadata": {},
     "output_type": "execute_result"
    }
   ],
   "source": [
    "str_ = \"aaaa\"\n",
    "re.sub(\"a\", \"b\", str_)"
   ]
  },
  {
   "cell_type": "code",
   "execution_count": 17,
   "id": "fc9fd1fc-9463-42c4-824c-3d9c2cf9963d",
   "metadata": {},
   "outputs": [
    {
     "data": {
      "text/plain": [
       "\"Watch this incredible @TEDTalks  ith IBM scientist @BmiBruno titled 'Ho  our brains  ill keep up  ith #AI' - and stay tuned for the fun ending - Hint: look at his shoes -  #TEDatIBM\""
      ]
     },
     "execution_count": 17,
     "metadata": {},
     "output_type": "execute_result"
    }
   ],
   "source": [
    "import re\n",
    "#match non-english symbols\n",
    "#re.findall(\"[^\\w]\",test_text)\n",
    "#remove these symbols\n",
    "re.sub(\"[\\^w]\", \" \", test_text)"
   ]
  },
  {
   "cell_type": "code",
   "execution_count": 18,
   "id": "580fd8ed-667b-41f5-8d84-f5dd7f115122",
   "metadata": {},
   "outputs": [],
   "source": [
    "def step1(text):\n",
    "    res1= re.sub(\"[\\^w]\", \" \", text)\n",
    "    return res1"
   ]
  },
  {
   "cell_type": "code",
   "execution_count": 19,
   "id": "fc7ab269-b309-4a71-baa3-543fe85fb215",
   "metadata": {},
   "outputs": [],
   "source": [
    "#extract one text for testing\n",
    "for doc in col.find({\"user.name\":\"user 06\"}):\n",
    "    test_text = doc[\"text\"]\n",
    "def keywords(text):\n",
    "    #step1: remove symbols= save[a=z][A-Z][0-9]\n",
    "    res1= step1(text)\n",
    "    return res1"
   ]
  },
  {
   "cell_type": "code",
   "execution_count": 20,
   "id": "56fbb4bd-55c6-4b0f-9d76-165a78b5cf20",
   "metadata": {},
   "outputs": [],
   "source": [
    "# Write a program in Python, to read the Tweet Dataset from MongoDB. For each tweet,\n",
    "# extract words from its ‘text’ field and print the words and the category of words in Python\n",
    "# console. (Note that, in order to extract words, you’d better remove stop words and\n",
    "# derivational affixes in the texts. Here, we can use a natural language toolkit (nltk) to handle these issues. For POS, use nltk.pos.)\n",
    "\n",
    "\n"
   ]
  },
  {
   "cell_type": "code",
   "execution_count": 21,
   "id": "cb9e5a4f-2a97-4f42-bd65-d08c7cdeb71c",
   "metadata": {},
   "outputs": [],
   "source": [
    "#connect to the database\n",
    "connection = pymongo.MongoClient(\"localhost:27017\")\n",
    "week3 = connection['Downloads']\n",
    "col = week3['Tweets']"
   ]
  },
  {
   "cell_type": "code",
   "execution_count": 22,
   "id": "c610c01f-9de2-42a1-b85f-862a3ac0d953",
   "metadata": {},
   "outputs": [],
   "source": [
    "def step1(text):\n",
    "    res1= re.sub(\"[\\^w]\", \" \", text)\n",
    "    return res1"
   ]
  },
  {
   "cell_type": "code",
   "execution_count": 23,
   "id": "d98aa0fc-b3ee-4e36-9c44-f21c3528fda6",
   "metadata": {},
   "outputs": [],
   "source": [
    "from nltk.tokenize import word_tokenize\n",
    "sentence = \"Welcome to COMP6210 Workshop4!\"\n",
    "words_list = word_tokenize(sentence)"
   ]
  },
  {
   "cell_type": "code",
   "execution_count": 24,
   "id": "4fe72df1-4b53-4282-9f99-97dc1b874ed1",
   "metadata": {},
   "outputs": [
    {
     "data": {
      "text/plain": [
       "['Welcome', 'to', 'COMP6210', 'Workshop4', '!']"
      ]
     },
     "execution_count": 24,
     "metadata": {},
     "output_type": "execute_result"
    }
   ],
   "source": [
    "words_list"
   ]
  },
  {
   "cell_type": "code",
   "execution_count": 25,
   "id": "aafb4c14-271a-4320-92e3-eddd20c5390c",
   "metadata": {},
   "outputs": [],
   "source": [
    "def step2(text):\n",
    "    words_list = word_tokenize(text)\n",
    "    return words_list"
   ]
  },
  {
   "cell_type": "code",
   "execution_count": 26,
   "id": "4f25692a-c611-4dd9-bbd3-82c837979a7c",
   "metadata": {},
   "outputs": [],
   "source": [
    "#extract one text for testing\n",
    "for doc in col.find({\"user.name\":\"user 06\"}):\n",
    "    test_text = doc[\"text\"]\n",
    "def keywords(text):\n",
    "    #step1: remove symbols= save[a=z][A-Z][0-9]\n",
    "    res1= step1(text)\n",
    "    #step2: word tokenization\n",
    "    res2=step2(res1)\n",
    "    return res2"
   ]
  },
  {
   "cell_type": "code",
   "execution_count": 27,
   "id": "1e8e9ccf-2a16-4a85-8ded-889850035119",
   "metadata": {},
   "outputs": [
    {
     "data": {
      "text/plain": [
       "\"Watch this incredible @TEDTalks  ith IBM scientist @BmiBruno titled 'Ho  our brains  ill keep up  ith #AI' - and stay tuned for the fun ending - Hint: look at his shoes -  #TEDatIBM\""
      ]
     },
     "execution_count": 27,
     "metadata": {},
     "output_type": "execute_result"
    }
   ],
   "source": [
    "import re\n",
    "re.sub(\"[\\^w]\", \" \", test_text)"
   ]
  },
  {
   "cell_type": "code",
   "execution_count": 28,
   "id": "b4bda19d-83b6-447d-a0e6-e130d0f720ba",
   "metadata": {},
   "outputs": [],
   "source": [
    "def step1(text):\n",
    "    res1= re.sub(\"[\\^w]\", \" \", text)\n",
    "    return res1"
   ]
  },
  {
   "cell_type": "code",
   "execution_count": 29,
   "id": "6ce7165d-0966-4dc2-a63d-3fb2a2690f2f",
   "metadata": {},
   "outputs": [],
   "source": [
    "from nltk.tokenize import word_tokenize\n",
    "sentence = \"Welcome to COMP6210 Workshop4!\"\n",
    "words_list = word_tokenize(sentence)"
   ]
  },
  {
   "cell_type": "code",
   "execution_count": 30,
   "id": "22d1013c-aedf-421a-b06a-d97d7d594e5b",
   "metadata": {},
   "outputs": [
    {
     "data": {
      "text/plain": [
       "['Welcome', 'to', 'COMP6210', 'Workshop4', '!']"
      ]
     },
     "execution_count": 30,
     "metadata": {},
     "output_type": "execute_result"
    }
   ],
   "source": [
    "words_list"
   ]
  },
  {
   "cell_type": "code",
   "execution_count": 31,
   "id": "423fc964-e99c-4a40-bf9f-1953f8e7174d",
   "metadata": {},
   "outputs": [],
   "source": [
    "def step3(words_list):\n",
    "    res_list = []\n",
    "    for word in words_list:\n",
    "        if word not in stopwords.words(\"english\"):\n",
    "            res_list.append(word)\n",
    "    #remove stopwords in the list\n",
    "    return res_list"
   ]
  },
  {
   "cell_type": "code",
   "execution_count": 32,
   "id": "3a66f833-a9aa-4a5e-94fd-fa153f362cc7",
   "metadata": {},
   "outputs": [
    {
     "data": {
      "text/plain": [
       "['i',\n",
       " 'me',\n",
       " 'my',\n",
       " 'myself',\n",
       " 'we',\n",
       " 'our',\n",
       " 'ours',\n",
       " 'ourselves',\n",
       " 'you',\n",
       " \"you're\",\n",
       " \"you've\",\n",
       " \"you'll\",\n",
       " \"you'd\",\n",
       " 'your',\n",
       " 'yours',\n",
       " 'yourself',\n",
       " 'yourselves',\n",
       " 'he',\n",
       " 'him',\n",
       " 'his',\n",
       " 'himself',\n",
       " 'she',\n",
       " \"she's\",\n",
       " 'her',\n",
       " 'hers',\n",
       " 'herself',\n",
       " 'it',\n",
       " \"it's\",\n",
       " 'its',\n",
       " 'itself',\n",
       " 'they',\n",
       " 'them',\n",
       " 'their',\n",
       " 'theirs',\n",
       " 'themselves',\n",
       " 'what',\n",
       " 'which',\n",
       " 'who',\n",
       " 'whom',\n",
       " 'this',\n",
       " 'that',\n",
       " \"that'll\",\n",
       " 'these',\n",
       " 'those',\n",
       " 'am',\n",
       " 'is',\n",
       " 'are',\n",
       " 'was',\n",
       " 'were',\n",
       " 'be',\n",
       " 'been',\n",
       " 'being',\n",
       " 'have',\n",
       " 'has',\n",
       " 'had',\n",
       " 'having',\n",
       " 'do',\n",
       " 'does',\n",
       " 'did',\n",
       " 'doing',\n",
       " 'a',\n",
       " 'an',\n",
       " 'the',\n",
       " 'and',\n",
       " 'but',\n",
       " 'if',\n",
       " 'or',\n",
       " 'because',\n",
       " 'as',\n",
       " 'until',\n",
       " 'while',\n",
       " 'of',\n",
       " 'at',\n",
       " 'by',\n",
       " 'for',\n",
       " 'with',\n",
       " 'about',\n",
       " 'against',\n",
       " 'between',\n",
       " 'into',\n",
       " 'through',\n",
       " 'during',\n",
       " 'before',\n",
       " 'after',\n",
       " 'above',\n",
       " 'below',\n",
       " 'to',\n",
       " 'from',\n",
       " 'up',\n",
       " 'down',\n",
       " 'in',\n",
       " 'out',\n",
       " 'on',\n",
       " 'off',\n",
       " 'over',\n",
       " 'under',\n",
       " 'again',\n",
       " 'further',\n",
       " 'then',\n",
       " 'once',\n",
       " 'here',\n",
       " 'there',\n",
       " 'when',\n",
       " 'where',\n",
       " 'why',\n",
       " 'how',\n",
       " 'all',\n",
       " 'any',\n",
       " 'both',\n",
       " 'each',\n",
       " 'few',\n",
       " 'more',\n",
       " 'most',\n",
       " 'other',\n",
       " 'some',\n",
       " 'such',\n",
       " 'no',\n",
       " 'nor',\n",
       " 'not',\n",
       " 'only',\n",
       " 'own',\n",
       " 'same',\n",
       " 'so',\n",
       " 'than',\n",
       " 'too',\n",
       " 'very',\n",
       " 's',\n",
       " 't',\n",
       " 'can',\n",
       " 'will',\n",
       " 'just',\n",
       " 'don',\n",
       " \"don't\",\n",
       " 'should',\n",
       " \"should've\",\n",
       " 'now',\n",
       " 'd',\n",
       " 'll',\n",
       " 'm',\n",
       " 'o',\n",
       " 're',\n",
       " 've',\n",
       " 'y',\n",
       " 'ain',\n",
       " 'aren',\n",
       " \"aren't\",\n",
       " 'couldn',\n",
       " \"couldn't\",\n",
       " 'didn',\n",
       " \"didn't\",\n",
       " 'doesn',\n",
       " \"doesn't\",\n",
       " 'hadn',\n",
       " \"hadn't\",\n",
       " 'hasn',\n",
       " \"hasn't\",\n",
       " 'haven',\n",
       " \"haven't\",\n",
       " 'isn',\n",
       " \"isn't\",\n",
       " 'ma',\n",
       " 'mightn',\n",
       " \"mightn't\",\n",
       " 'mustn',\n",
       " \"mustn't\",\n",
       " 'needn',\n",
       " \"needn't\",\n",
       " 'shan',\n",
       " \"shan't\",\n",
       " 'shouldn',\n",
       " \"shouldn't\",\n",
       " 'wasn',\n",
       " \"wasn't\",\n",
       " 'weren',\n",
       " \"weren't\",\n",
       " 'won',\n",
       " \"won't\",\n",
       " 'wouldn',\n",
       " \"wouldn't\"]"
      ]
     },
     "execution_count": 32,
     "metadata": {},
     "output_type": "execute_result"
    }
   ],
   "source": [
    "from nltk.corpus import stopwords\n",
    "stopwords.words(\"english\")"
   ]
  },
  {
   "cell_type": "code",
   "execution_count": 33,
   "id": "626fdf3c-ad38-4d6d-a3f6-9ca4a21dfd7d",
   "metadata": {},
   "outputs": [
    {
     "name": "stdout",
     "output_type": "stream",
     "text": [
      "connect\n",
      "connect\n",
      "connect\n",
      "connect\n",
      "connect\n",
      "connect\n",
      "connect\n"
     ]
    }
   ],
   "source": [
    "from nltk.stem import PorterStemmer\n",
    "ps = PorterStemmer()\n",
    "example_words = [\"connect\", \"connections\", \"connected\",\n",
    "\"connects\", \"connection\", \"connecting\", \"connectings\"]\n",
    "for word in example_words:\n",
    " print(ps.stem(word))"
   ]
  },
  {
   "cell_type": "code",
   "execution_count": null,
   "id": "1b23592a-dfe9-4b53-bd66-c8d2417957d2",
   "metadata": {},
   "outputs": [],
   "source": []
  },
  {
   "cell_type": "code",
   "execution_count": 34,
   "id": "a6dec0f9-38d5-47a4-8609-f81cd06275dc",
   "metadata": {},
   "outputs": [],
   "source": [
    "def step4(words_list):\n",
    "    res_list=[]\n",
    "    ps = PorterStemmer()\n",
    "    for word in words_list:\n",
    "        res_list.append(ps.stem(words))\n",
    "    return res_list"
   ]
  },
  {
   "cell_type": "code",
   "execution_count": 35,
   "id": "23db97a9-0f8c-43e4-9978-7ba42bf780d7",
   "metadata": {},
   "outputs": [
    {
     "name": "stdout",
     "output_type": "stream",
     "text": [
      "('On', 'IN')\n",
      "('Friday', 'NNP')\n",
      "('evening', 'VBG')\n",
      "('we', 'PRP')\n",
      "('welcomed', 'VBD')\n",
      "('our', 'PRP$')\n",
      "('new', 'JJ')\n",
      "('MRes', 'NNP')\n",
      "('and', 'CC')\n",
      "('PhD', 'NNP')\n",
      "('Students', 'NNP')\n",
      "('on', 'IN')\n",
      "('a', 'DT')\n",
      "('walking', 'VBG')\n",
      "('tour', 'NN')\n",
      "('of', 'IN')\n",
      "('the', 'DT')\n",
      "('City', 'NNP')\n"
     ]
    }
   ],
   "source": [
    "comment = \"On Friday evening we welcomed our new MRes and PhD Students on a walking tour of the City\"\n",
    "text = nltk.word_tokenize(comment)\n",
    "p_tags = nltk.pos_tag(text)\n",
    "for tag in p_tags:\n",
    " print(tag)"
   ]
  },
  {
   "cell_type": "code",
   "execution_count": 36,
   "id": "59cc3abf-fa8e-4600-9294-9cafd97a6c99",
   "metadata": {},
   "outputs": [
    {
     "ename": "SyntaxError",
     "evalue": "invalid syntax (3820822038.py, line 3)",
     "output_type": "error",
     "traceback": [
      "\u001b[1;36m  Cell \u001b[1;32mIn[36], line 3\u001b[1;36m\u001b[0m\n\u001b[1;33m    retun p_tags\u001b[0m\n\u001b[1;37m          ^\u001b[0m\n\u001b[1;31mSyntaxError\u001b[0m\u001b[1;31m:\u001b[0m invalid syntax\n"
     ]
    }
   ],
   "source": [
    "def step5(words_list):\n",
    "    p_tags = nltk.pos_tag(words_list)\n",
    "    retun p_tags"
   ]
  },
  {
   "cell_type": "code",
   "execution_count": null,
   "id": "ebb31d9d-d00c-48fd-b705-e741174651b2",
   "metadata": {},
   "outputs": [],
   "source": [
    "#extract one text for testing\n",
    "for doc in col.find({\"user.name\":\"user 06\"}):\n",
    "    test_text = doc[\"text\"]\n",
    "def keywords(text):\n",
    "    #step1: remove symbols= save[a=z][A-Z][0-9]\n",
    "    res1= step1(text)\n",
    "    #step2: word tokenization\n",
    "    res2=step2(res1)\n",
    "    #step3 stopwords\n",
    "    res3 = step3(res2)\n",
    "    #step4:word stemming\n",
    "    res4=step4(res2)\n",
    "    #step 5: pos tagging\n",
    "    res5 = step5(res4)\n",
    "    return res5"
   ]
  },
  {
   "cell_type": "code",
   "execution_count": null,
   "id": "99efb697-ce60-44fa-8a4c-4848233793a6",
   "metadata": {},
   "outputs": [],
   "source": [
    "for doc in col.find():\n",
    "    if \"text\" in doc.keys():\n",
    "        res = keywords(doc[\"text\"])\n",
    "        print(res)"
   ]
  },
  {
   "cell_type": "code",
   "execution_count": 38,
   "id": "79f893c2-0b42-47cc-aef4-aacf0f9f57a2",
   "metadata": {},
   "outputs": [],
   "source": [
    "#keywords(test_text)\n",
    "\n",
    "#csv =\"\"\n",
    "#for pair in keywords(test_text):\n",
    " #   csv = csv + pair[0] +\",\" + pair[1] +\"\\n\""
   ]
  },
  {
   "cell_type": "code",
   "execution_count": null,
   "id": "ff0eb3d2-dbfd-44cb-8885-0c1eaa67491d",
   "metadata": {},
   "outputs": [],
   "source": [
    "for doc in col.find():\n",
    "    if \"text\" in doc.keys():\n",
    "        res=keywords(doc[\"text\"])\n",
    "        #transform pair to csv format\n",
    "        csv = \"\"\n",
    "        for pair in keywords(res):\n",
    "            csv = csv +pair[0] +\",\" +pair[1] +\"\\n\"\n",
    "\n",
    "#update ({query_part} , {update part:$set:new_field:new value})\n",
    "        col.update_one({\"_id\":doc[\"_id\"]},{\"$set\":{\"keyword\":csv}})\n",
    "        "
   ]
  }
 ],
 "metadata": {
  "kernelspec": {
   "display_name": "Python 3 (ipykernel)",
   "language": "python",
   "name": "python3"
  },
  "language_info": {
   "codemirror_mode": {
    "name": "ipython",
    "version": 3
   },
   "file_extension": ".py",
   "mimetype": "text/x-python",
   "name": "python",
   "nbconvert_exporter": "python",
   "pygments_lexer": "ipython3",
   "version": "3.11.7"
  }
 },
 "nbformat": 4,
 "nbformat_minor": 5
}
